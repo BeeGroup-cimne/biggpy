{
 "cells": [
  {
   "cell_type": "code",
   "execution_count": 0,
   "metadata": {
    "application/vnd.databricks.v1+cell": {
     "cellMetadata": {
      "byteLimit": 2048000,
      "rowLimit": 10000
     },
     "inputWidgets": {},
     "nuid": "6dba92d9-4151-42d0-8ad5-bd1f9dac5a57",
     "showTitle": false,
     "title": ""
    }
   },
   "outputs": [],
   "source": [
    "import pandas as pd\n",
    "import numpy as np\n",
    "from sklearn.model_selection import train_test_split\n",
    "from tensorflow.keras.models import Sequential\n",
    "from tensorflow.keras.layers import Dense, Dropout\n",
    "import requests\n",
    "import pandas as pd\n",
    "from io import BytesIO\n",
    "from datetime import date, timedelta\n",
    "from sklearn.preprocessing import MinMaxScaler\n"
   ]
  },
  {
   "cell_type": "code",
   "execution_count": 0,
   "metadata": {
    "application/vnd.databricks.v1+cell": {
     "cellMetadata": {
      "byteLimit": 2048000,
      "rowLimit": 10000
     },
     "inputWidgets": {},
     "nuid": "0a5ab7a1-2581-4e52-b75e-e45e253b8614",
     "showTitle": false,
     "title": ""
    }
   },
   "outputs": [
    {
     "output_type": "stream",
     "name": "stdout",
     "output_type": "stream",
     "text": [
      "https://www.admie.gr/sites/default/files/attached-files/type-file/2023/05/20230508_ISP1Requirements_01.xlsx\n"
     ]
    }
   ],
   "source": [
    "# Construct the URL for today's forecast file\n",
    "today = date.today() #+ timedelta(days=1)\n",
    "url = \"https://www.admie.gr/sites/default/files/attached-files/type-file/2023/05/20230508_ISP1Requirements_01.xlsx\"\n",
    "\n",
    "print (url)\n",
    "# Download the file from the URL\n",
    "response = requests.get(url)"
   ]
  },
  {
   "cell_type": "code",
   "execution_count": 0,
   "metadata": {
    "application/vnd.databricks.v1+cell": {
     "cellMetadata": {
      "byteLimit": 2048000,
      "rowLimit": 10000
     },
     "inputWidgets": {},
     "nuid": "f92336f3-faaa-4136-b505-25596d9f6bf2",
     "showTitle": false,
     "title": ""
    }
   },
   "outputs": [
    {
     "output_type": "stream",
     "name": "stdout",
     "output_type": "stream",
     "text": [
      "/local_disk0/.ephemeral_nfs/cluster_libraries/python/lib/python3.9/site-packages/openpyxl/styles/stylesheet.py:226: UserWarning: Workbook contains no default style, apply openpyxl's default\n  warn(\"Workbook contains no default style, apply openpyxl's default\")\n"
     ]
    }
   ],
   "source": [
    "df = pd.read_excel(BytesIO(response.content), engine='openpyxl', header=None, skiprows=1, index_col=0)\n",
    "\n",
    "df = df.iloc[[0, 3, 7, 27], :]"
   ]
  },
  {
   "cell_type": "code",
   "execution_count": 0,
   "metadata": {
    "application/vnd.databricks.v1+cell": {
     "cellMetadata": {
      "byteLimit": 2048000,
      "rowLimit": 10000
     },
     "inputWidgets": {},
     "nuid": "2c451ed2-a6c4-45ee-81b6-5f5df6346ae3",
     "showTitle": false,
     "title": ""
    }
   },
   "outputs": [],
   "source": [
    "df = df.drop(df.columns[[0,49]], axis=1)\n"
   ]
  },
  {
   "cell_type": "code",
   "execution_count": 0,
   "metadata": {
    "application/vnd.databricks.v1+cell": {
     "cellMetadata": {
      "byteLimit": 2048000,
      "rowLimit": 10000
     },
     "inputWidgets": {},
     "nuid": "1e9d362d-54df-431c-8212-968096b4d0b8",
     "showTitle": false,
     "title": ""
    }
   },
   "outputs": [],
   "source": [
    "df = df.transpose()"
   ]
  },
  {
   "cell_type": "code",
   "execution_count": 0,
   "metadata": {
    "application/vnd.databricks.v1+cell": {
     "cellMetadata": {
      "byteLimit": 2048000,
      "rowLimit": 10000
     },
     "inputWidgets": {},
     "nuid": "19617808-6023-4d86-b32f-ba2be4f71d91",
     "showTitle": false,
     "title": ""
    }
   },
   "outputs": [],
   "source": [
    "new_cols = [col + f\"_{i}\" for i, col in enumerate(df.columns)]\n",
    "df.columns = new_cols\n",
    "df = df.rename(columns={'RES Forecast_0': 'Time', 'Total System_1': 'Total_RES', 'Total System_2': 'Total_ND', 'Total System_3': 'Total_Hydro'})\n"
   ]
  },
  {
   "cell_type": "code",
   "execution_count": 0,
   "metadata": {
    "application/vnd.databricks.v1+cell": {
     "cellMetadata": {
      "byteLimit": 2048000,
      "rowLimit": 10000
     },
     "inputWidgets": {},
     "nuid": "09da3da8-2abc-4bcc-99da-cccb3dbec722",
     "showTitle": false,
     "title": ""
    }
   },
   "outputs": [],
   "source": [
    "df['Time'] = pd.to_datetime(df['Time'])\n",
    "df = df.set_index(\"Time\")"
   ]
  },
  {
   "cell_type": "code",
   "execution_count": 0,
   "metadata": {
    "application/vnd.databricks.v1+cell": {
     "cellMetadata": {
      "byteLimit": 2048000,
      "rowLimit": 10000
     },
     "inputWidgets": {},
     "nuid": "93839cc4-48df-4805-a2a8-f4f4f19eb1b4",
     "showTitle": false,
     "title": ""
    }
   },
   "outputs": [],
   "source": [
    "df = df.resample('H').mean()"
   ]
  },
  {
   "cell_type": "code",
   "execution_count": 0,
   "metadata": {
    "application/vnd.databricks.v1+cell": {
     "cellMetadata": {
      "byteLimit": 2048000,
      "rowLimit": 10000
     },
     "inputWidgets": {},
     "nuid": "112af1f3-e1ff-413b-9129-09b050d3df47",
     "showTitle": false,
     "title": ""
    }
   },
   "outputs": [],
   "source": [
    "# add a calculated column 'dams' as the sum of 'A' and 'B'\n",
    "df = df.assign(ISP=(df['Total_RES'] + df['Total_Hydro'])/df['Total_ND'])"
   ]
  },
  {
   "cell_type": "code",
   "execution_count": 0,
   "metadata": {
    "application/vnd.databricks.v1+cell": {
     "cellMetadata": {
      "byteLimit": 2048000,
      "rowLimit": 10000
     },
     "inputWidgets": {},
     "nuid": "401f7593-e25c-484f-bd35-22e036fd7364",
     "showTitle": false,
     "title": ""
    }
   },
   "outputs": [],
   "source": [
    "# sort the DataFrame by column 'B'\n",
    "df = df.sort_values(by='ISP' , ascending = False)"
   ]
  },
  {
   "cell_type": "code",
   "execution_count": 0,
   "metadata": {
    "application/vnd.databricks.v1+cell": {
     "cellMetadata": {
      "byteLimit": 2048000,
      "rowLimit": 10000
     },
     "inputWidgets": {},
     "nuid": "5f306604-6169-48d7-9f34-19d010f569b9",
     "showTitle": false,
     "title": ""
    }
   },
   "outputs": [
    {
     "output_type": "display_data",
     "data": {
      "text/html": [
       "<div>\n",
       "<style scoped>\n",
       "    .dataframe tbody tr th:only-of-type {\n",
       "        vertical-align: middle;\n",
       "    }\n",
       "\n",
       "    .dataframe tbody tr th {\n",
       "        vertical-align: top;\n",
       "    }\n",
       "\n",
       "    .dataframe thead th {\n",
       "        text-align: right;\n",
       "    }\n",
       "</style>\n",
       "<table border=\"1\" class=\"dataframe\">\n",
       "  <thead>\n",
       "    <tr style=\"text-align: right;\">\n",
       "      <th></th>\n",
       "      <th>Total_RES</th>\n",
       "      <th>Total_ND</th>\n",
       "      <th>Total_Hydro</th>\n",
       "      <th>ISP</th>\n",
       "    </tr>\n",
       "    <tr>\n",
       "      <th>Time</th>\n",
       "      <th></th>\n",
       "      <th></th>\n",
       "      <th></th>\n",
       "      <th></th>\n",
       "    </tr>\n",
       "  </thead>\n",
       "  <tbody>\n",
       "    <tr>\n",
       "      <th>2023-05-08 12:00:00</th>\n",
       "      <td>3790.0</td>\n",
       "      <td>5430.0</td>\n",
       "      <td>45.0</td>\n",
       "      <td>0.706262</td>\n",
       "    </tr>\n",
       "    <tr>\n",
       "      <th>2023-05-08 13:00:00</th>\n",
       "      <td>3650.0</td>\n",
       "      <td>5215.0</td>\n",
       "      <td>15.0</td>\n",
       "      <td>0.702780</td>\n",
       "    </tr>\n",
       "    <tr>\n",
       "      <th>2023-05-08 11:00:00</th>\n",
       "      <td>3735.0</td>\n",
       "      <td>5455.0</td>\n",
       "      <td>45.0</td>\n",
       "      <td>0.692942</td>\n",
       "    </tr>\n",
       "    <tr>\n",
       "      <th>2023-05-08 14:00:00</th>\n",
       "      <td>3330.0</td>\n",
       "      <td>5010.0</td>\n",
       "      <td>15.0</td>\n",
       "      <td>0.667665</td>\n",
       "    </tr>\n",
       "    <tr>\n",
       "      <th>2023-05-08 10:00:00</th>\n",
       "      <td>3450.0</td>\n",
       "      <td>5375.0</td>\n",
       "      <td>47.0</td>\n",
       "      <td>0.650605</td>\n",
       "    </tr>\n",
       "    <tr>\n",
       "      <th>2023-05-08 15:00:00</th>\n",
       "      <td>2825.0</td>\n",
       "      <td>4815.0</td>\n",
       "      <td>15.0</td>\n",
       "      <td>0.589823</td>\n",
       "    </tr>\n",
       "    <tr>\n",
       "      <th>2023-05-08 09:00:00</th>\n",
       "      <td>2975.0</td>\n",
       "      <td>5295.0</td>\n",
       "      <td>49.0</td>\n",
       "      <td>0.571105</td>\n",
       "    </tr>\n",
       "    <tr>\n",
       "      <th>2023-05-08 08:00:00</th>\n",
       "      <td>2305.0</td>\n",
       "      <td>5135.0</td>\n",
       "      <td>150.0</td>\n",
       "      <td>0.478092</td>\n",
       "    </tr>\n",
       "    <tr>\n",
       "      <th>2023-05-08 16:00:00</th>\n",
       "      <td>2185.0</td>\n",
       "      <td>4765.0</td>\n",
       "      <td>41.0</td>\n",
       "      <td>0.467156</td>\n",
       "    </tr>\n",
       "    <tr>\n",
       "      <th>2023-05-08 07:00:00</th>\n",
       "      <td>1485.0</td>\n",
       "      <td>4820.0</td>\n",
       "      <td>174.0</td>\n",
       "      <td>0.344191</td>\n",
       "    </tr>\n",
       "    <tr>\n",
       "      <th>2023-05-08 17:00:00</th>\n",
       "      <td>1470.0</td>\n",
       "      <td>4825.0</td>\n",
       "      <td>41.0</td>\n",
       "      <td>0.313161</td>\n",
       "    </tr>\n",
       "    <tr>\n",
       "      <th>2023-05-08 18:00:00</th>\n",
       "      <td>890.0</td>\n",
       "      <td>4970.0</td>\n",
       "      <td>372.0</td>\n",
       "      <td>0.253924</td>\n",
       "    </tr>\n",
       "    <tr>\n",
       "      <th>2023-05-08 19:00:00</th>\n",
       "      <td>700.0</td>\n",
       "      <td>5255.0</td>\n",
       "      <td>574.0</td>\n",
       "      <td>0.242436</td>\n",
       "    </tr>\n",
       "    <tr>\n",
       "      <th>2023-05-08 20:00:00</th>\n",
       "      <td>650.0</td>\n",
       "      <td>5290.0</td>\n",
       "      <td>581.0</td>\n",
       "      <td>0.232703</td>\n",
       "    </tr>\n",
       "    <tr>\n",
       "      <th>2023-05-08 06:00:00</th>\n",
       "      <td>845.0</td>\n",
       "      <td>4405.0</td>\n",
       "      <td>151.0</td>\n",
       "      <td>0.226107</td>\n",
       "    </tr>\n",
       "    <tr>\n",
       "      <th>2023-05-08 21:00:00</th>\n",
       "      <td>590.0</td>\n",
       "      <td>4835.0</td>\n",
       "      <td>286.0</td>\n",
       "      <td>0.181179</td>\n",
       "    </tr>\n",
       "    <tr>\n",
       "      <th>2023-05-08 03:00:00</th>\n",
       "      <td>550.0</td>\n",
       "      <td>3480.0</td>\n",
       "      <td>0.0</td>\n",
       "      <td>0.158046</td>\n",
       "    </tr>\n",
       "    <tr>\n",
       "      <th>2023-05-08 01:00:00</th>\n",
       "      <td>555.0</td>\n",
       "      <td>3545.0</td>\n",
       "      <td>0.0</td>\n",
       "      <td>0.156559</td>\n",
       "    </tr>\n",
       "    <tr>\n",
       "      <th>2023-05-08 02:00:00</th>\n",
       "      <td>540.0</td>\n",
       "      <td>3480.0</td>\n",
       "      <td>0.0</td>\n",
       "      <td>0.155172</td>\n",
       "    </tr>\n",
       "    <tr>\n",
       "      <th>2023-05-08 00:00:00</th>\n",
       "      <td>570.0</td>\n",
       "      <td>3675.0</td>\n",
       "      <td>0.0</td>\n",
       "      <td>0.155102</td>\n",
       "    </tr>\n",
       "    <tr>\n",
       "      <th>2023-05-08 05:00:00</th>\n",
       "      <td>545.0</td>\n",
       "      <td>3855.0</td>\n",
       "      <td>41.0</td>\n",
       "      <td>0.152010</td>\n",
       "    </tr>\n",
       "    <tr>\n",
       "      <th>2023-05-08 04:00:00</th>\n",
       "      <td>540.0</td>\n",
       "      <td>3580.0</td>\n",
       "      <td>0.0</td>\n",
       "      <td>0.150838</td>\n",
       "    </tr>\n",
       "    <tr>\n",
       "      <th>2023-05-08 23:00:00</th>\n",
       "      <td>540.0</td>\n",
       "      <td>4140.0</td>\n",
       "      <td>0.0</td>\n",
       "      <td>0.130435</td>\n",
       "    </tr>\n",
       "    <tr>\n",
       "      <th>2023-05-08 22:00:00</th>\n",
       "      <td>555.0</td>\n",
       "      <td>4515.0</td>\n",
       "      <td>26.0</td>\n",
       "      <td>0.128682</td>\n",
       "    </tr>\n",
       "  </tbody>\n",
       "</table>\n",
       "</div>"
      ]
     },
     "metadata": {
      "application/vnd.databricks.v1+output": {
       "addedWidgets": {},
       "arguments": {},
       "data": "<div>\n<style scoped>\n    .dataframe tbody tr th:only-of-type {\n        vertical-align: middle;\n    }\n\n    .dataframe tbody tr th {\n        vertical-align: top;\n    }\n\n    .dataframe thead th {\n        text-align: right;\n    }\n</style>\n<table border=\"1\" class=\"dataframe\">\n  <thead>\n    <tr style=\"text-align: right;\">\n      <th></th>\n      <th>Total_RES</th>\n      <th>Total_ND</th>\n      <th>Total_Hydro</th>\n      <th>ISP</th>\n    </tr>\n    <tr>\n      <th>Time</th>\n      <th></th>\n      <th></th>\n      <th></th>\n      <th></th>\n    </tr>\n  </thead>\n  <tbody>\n    <tr>\n      <th>2023-05-08 12:00:00</th>\n      <td>3790.0</td>\n      <td>5430.0</td>\n      <td>45.0</td>\n      <td>0.706262</td>\n    </tr>\n    <tr>\n      <th>2023-05-08 13:00:00</th>\n      <td>3650.0</td>\n      <td>5215.0</td>\n      <td>15.0</td>\n      <td>0.702780</td>\n    </tr>\n    <tr>\n      <th>2023-05-08 11:00:00</th>\n      <td>3735.0</td>\n      <td>5455.0</td>\n      <td>45.0</td>\n      <td>0.692942</td>\n    </tr>\n    <tr>\n      <th>2023-05-08 14:00:00</th>\n      <td>3330.0</td>\n      <td>5010.0</td>\n      <td>15.0</td>\n      <td>0.667665</td>\n    </tr>\n    <tr>\n      <th>2023-05-08 10:00:00</th>\n      <td>3450.0</td>\n      <td>5375.0</td>\n      <td>47.0</td>\n      <td>0.650605</td>\n    </tr>\n    <tr>\n      <th>2023-05-08 15:00:00</th>\n      <td>2825.0</td>\n      <td>4815.0</td>\n      <td>15.0</td>\n      <td>0.589823</td>\n    </tr>\n    <tr>\n      <th>2023-05-08 09:00:00</th>\n      <td>2975.0</td>\n      <td>5295.0</td>\n      <td>49.0</td>\n      <td>0.571105</td>\n    </tr>\n    <tr>\n      <th>2023-05-08 08:00:00</th>\n      <td>2305.0</td>\n      <td>5135.0</td>\n      <td>150.0</td>\n      <td>0.478092</td>\n    </tr>\n    <tr>\n      <th>2023-05-08 16:00:00</th>\n      <td>2185.0</td>\n      <td>4765.0</td>\n      <td>41.0</td>\n      <td>0.467156</td>\n    </tr>\n    <tr>\n      <th>2023-05-08 07:00:00</th>\n      <td>1485.0</td>\n      <td>4820.0</td>\n      <td>174.0</td>\n      <td>0.344191</td>\n    </tr>\n    <tr>\n      <th>2023-05-08 17:00:00</th>\n      <td>1470.0</td>\n      <td>4825.0</td>\n      <td>41.0</td>\n      <td>0.313161</td>\n    </tr>\n    <tr>\n      <th>2023-05-08 18:00:00</th>\n      <td>890.0</td>\n      <td>4970.0</td>\n      <td>372.0</td>\n      <td>0.253924</td>\n    </tr>\n    <tr>\n      <th>2023-05-08 19:00:00</th>\n      <td>700.0</td>\n      <td>5255.0</td>\n      <td>574.0</td>\n      <td>0.242436</td>\n    </tr>\n    <tr>\n      <th>2023-05-08 20:00:00</th>\n      <td>650.0</td>\n      <td>5290.0</td>\n      <td>581.0</td>\n      <td>0.232703</td>\n    </tr>\n    <tr>\n      <th>2023-05-08 06:00:00</th>\n      <td>845.0</td>\n      <td>4405.0</td>\n      <td>151.0</td>\n      <td>0.226107</td>\n    </tr>\n    <tr>\n      <th>2023-05-08 21:00:00</th>\n      <td>590.0</td>\n      <td>4835.0</td>\n      <td>286.0</td>\n      <td>0.181179</td>\n    </tr>\n    <tr>\n      <th>2023-05-08 03:00:00</th>\n      <td>550.0</td>\n      <td>3480.0</td>\n      <td>0.0</td>\n      <td>0.158046</td>\n    </tr>\n    <tr>\n      <th>2023-05-08 01:00:00</th>\n      <td>555.0</td>\n      <td>3545.0</td>\n      <td>0.0</td>\n      <td>0.156559</td>\n    </tr>\n    <tr>\n      <th>2023-05-08 02:00:00</th>\n      <td>540.0</td>\n      <td>3480.0</td>\n      <td>0.0</td>\n      <td>0.155172</td>\n    </tr>\n    <tr>\n      <th>2023-05-08 00:00:00</th>\n      <td>570.0</td>\n      <td>3675.0</td>\n      <td>0.0</td>\n      <td>0.155102</td>\n    </tr>\n    <tr>\n      <th>2023-05-08 05:00:00</th>\n      <td>545.0</td>\n      <td>3855.0</td>\n      <td>41.0</td>\n      <td>0.152010</td>\n    </tr>\n    <tr>\n      <th>2023-05-08 04:00:00</th>\n      <td>540.0</td>\n      <td>3580.0</td>\n      <td>0.0</td>\n      <td>0.150838</td>\n    </tr>\n    <tr>\n      <th>2023-05-08 23:00:00</th>\n      <td>540.0</td>\n      <td>4140.0</td>\n      <td>0.0</td>\n      <td>0.130435</td>\n    </tr>\n    <tr>\n      <th>2023-05-08 22:00:00</th>\n      <td>555.0</td>\n      <td>4515.0</td>\n      <td>26.0</td>\n      <td>0.128682</td>\n    </tr>\n  </tbody>\n</table>\n</div>",
       "datasetInfos": [],
       "metadata": {},
       "removedWidgets": [],
       "textData": null,
       "type": "htmlSandbox"
      }
     },
     "output_type": "display_data"
    }
   ],
   "source": [
    "df"
   ]
  },
  {
   "cell_type": "code",
   "execution_count": 0,
   "metadata": {
    "application/vnd.databricks.v1+cell": {
     "cellMetadata": {
      "byteLimit": 2048000,
      "rowLimit": 10000
     },
     "inputWidgets": {},
     "nuid": "0a3d11c9-3aa0-4f91-ad13-9bc4e0319a3e",
     "showTitle": false,
     "title": ""
    }
   },
   "outputs": [],
   "source": [
    "\n",
    "\n",
    "# Load the forecast and green energy dataframes\n",
    "forecast_df = pd.read_csv(\"forecast_bigg.csv\")\n",
    "green_energy_df = df[['ISP']]\n",
    "\n"
   ]
  },
  {
   "cell_type": "code",
   "execution_count": 0,
   "metadata": {
    "application/vnd.databricks.v1+cell": {
     "cellMetadata": {},
     "inputWidgets": {},
     "nuid": "30cc1637-5870-4b8d-8329-a538cf54c726",
     "showTitle": false,
     "title": ""
    }
   },
   "outputs": [],
   "source": [
    "#Limit of red tariff zone\n",
    "threshold_tariff = green_energy_df.iloc[-6,0]"
   ]
  },
  {
   "cell_type": "code",
   "execution_count": 0,
   "metadata": {
    "application/vnd.databricks.v1+cell": {
     "cellMetadata": {
      "byteLimit": 2048000,
      "rowLimit": 10000
     },
     "inputWidgets": {},
     "nuid": "c1ab3453-12e9-446c-b168-253fce92481e",
     "showTitle": false,
     "title": ""
    }
   },
   "outputs": [],
   "source": [
    "# Convert the Time column to a datetime object\n",
    "forecast_df[\"Time\"] = pd.to_datetime(forecast_df[\"Time\"])\n",
    "\n",
    "# Convert the datetime object to the desired format\n",
    "forecast_df[\"Time\"] = forecast_df[\"Time\"].dt.strftime(\"%Y-%m-%d %H:%M:%S\")\n"
   ]
  },
  {
   "cell_type": "code",
   "execution_count": 0,
   "metadata": {
    "application/vnd.databricks.v1+cell": {
     "cellMetadata": {
      "byteLimit": 2048000,
      "rowLimit": 10000
     },
     "inputWidgets": {},
     "nuid": "39a90282-6a28-425e-a9a5-f495e922fb73",
     "showTitle": false,
     "title": ""
    }
   },
   "outputs": [],
   "source": [
    "# Reset the index to turn the \"Time\" index into a regular column\n",
    "green_energy_df.reset_index(inplace=True)"
   ]
  },
  {
   "cell_type": "code",
   "execution_count": 0,
   "metadata": {
    "application/vnd.databricks.v1+cell": {
     "cellMetadata": {
      "byteLimit": 2048000,
      "rowLimit": 10000
     },
     "inputWidgets": {},
     "nuid": "e9d42948-7d90-4d6d-9d1f-e6b68467adfe",
     "showTitle": false,
     "title": ""
    }
   },
   "outputs": [
    {
     "output_type": "stream",
     "name": "stdout",
     "output_type": "stream",
     "text": [
      "<command-3216744693488352>:2: SettingWithCopyWarning: \nA value is trying to be set on a copy of a slice from a DataFrame.\nTry using .loc[row_indexer,col_indexer] = value instead\n\nSee the caveats in the documentation: https://pandas.pydata.org/pandas-docs/stable/user_guide/indexing.html#returning-a-view-versus-a-copy\n  green_energy_df[\"Time\"] = pd.to_datetime(green_energy_df[\"Time\"])\n"
     ]
    }
   ],
   "source": [
    "# Convert the Time column to a datetime object\n",
    "green_energy_df[\"Time\"] = pd.to_datetime(green_energy_df[\"Time\"])"
   ]
  },
  {
   "cell_type": "code",
   "execution_count": 0,
   "metadata": {
    "application/vnd.databricks.v1+cell": {
     "cellMetadata": {
      "byteLimit": 2048000,
      "rowLimit": 10000
     },
     "inputWidgets": {},
     "nuid": "cb69278e-8943-4c22-aaa2-a80cca5f5cf7",
     "showTitle": false,
     "title": ""
    }
   },
   "outputs": [],
   "source": [
    "# Convert the Time column to a datetime object\n",
    "forecast_df[\"Time\"] = pd.to_datetime(forecast_df[\"Time\"])"
   ]
  },
  {
   "cell_type": "code",
   "execution_count": 0,
   "metadata": {
    "application/vnd.databricks.v1+cell": {
     "cellMetadata": {
      "byteLimit": 2048000,
      "rowLimit": 10000
     },
     "inputWidgets": {},
     "nuid": "3f133a05-9a3b-4f7b-b925-2da92af12a85",
     "showTitle": false,
     "title": ""
    }
   },
   "outputs": [
    {
     "output_type": "stream",
     "name": "stdout",
     "output_type": "stream",
     "text": [
      "<class 'pandas.core.frame.DataFrame'>\nRangeIndex: 774 entries, 0 to 773\nData columns (total 5 columns):\n #   Column       Non-Null Count  Dtype         \n---  ------       --------------  -----         \n 0   deviceid     774 non-null    object        \n 1   Time         774 non-null    datetime64[ns]\n 2   value        774 non-null    float64       \n 3   device_type  774 non-null    float64       \n 4   home_id      774 non-null    float64       \ndtypes: datetime64[ns](1), float64(3), object(1)\nmemory usage: 30.4+ KB\n"
     ]
    }
   ],
   "source": [
    "forecast_df.info()"
   ]
  },
  {
   "cell_type": "code",
   "execution_count": 0,
   "metadata": {
    "application/vnd.databricks.v1+cell": {
     "cellMetadata": {
      "byteLimit": 2048000,
      "rowLimit": 10000
     },
     "inputWidgets": {},
     "nuid": "7028da24-e460-4f0e-8cd2-4611650fba72",
     "showTitle": false,
     "title": ""
    }
   },
   "outputs": [
    {
     "output_type": "stream",
     "name": "stdout",
     "output_type": "stream",
     "text": [
      "                 deviceid                Time       value  device_type  home_id\n0           domxem-C7F92D 2023-05-08 00:00:00   59.632738          1.0     82.0\n1           domxem-C7F92D 2023-05-08 01:00:00   49.190871          1.0     82.0\n2           domxem-C7F92D 2023-05-08 02:00:00   60.567909          1.0     82.0\n3           domxem-C7F92D 2023-05-08 03:00:00   49.720847          1.0     82.0\n4           domxem-C7F92D 2023-05-08 04:00:00   54.102657          1.0     82.0\n..                    ...                 ...         ...          ...      ...\n769  domxem3-FCF5C49641E6 2023-05-08 19:00:00  246.546928          2.0    147.0\n770  domxem3-FCF5C49641E6 2023-05-08 20:00:00   40.932821          2.0    147.0\n771  domxem3-FCF5C49641E6 2023-05-08 21:00:00   44.957516          2.0    147.0\n772  domxem3-FCF5C49641E6 2023-05-08 22:00:00   72.243707          2.0    147.0\n773  domxem3-FCF5C49641E6 2023-05-08 23:00:00  100.536754          2.0    147.0\n\n[774 rows x 5 columns]\n                  Time       ISP\n0  2023-05-08 12:00:00  0.706262\n1  2023-05-08 13:00:00  0.702780\n2  2023-05-08 11:00:00  0.692942\n3  2023-05-08 14:00:00  0.667665\n4  2023-05-08 10:00:00  0.650605\n5  2023-05-08 15:00:00  0.589823\n6  2023-05-08 09:00:00  0.571105\n7  2023-05-08 08:00:00  0.478092\n8  2023-05-08 16:00:00  0.467156\n9  2023-05-08 07:00:00  0.344191\n10 2023-05-08 17:00:00  0.313161\n11 2023-05-08 18:00:00  0.253924\n12 2023-05-08 19:00:00  0.242436\n13 2023-05-08 20:00:00  0.232703\n14 2023-05-08 06:00:00  0.226107\n15 2023-05-08 21:00:00  0.181179\n16 2023-05-08 03:00:00  0.158046\n17 2023-05-08 01:00:00  0.156559\n18 2023-05-08 02:00:00  0.155172\n19 2023-05-08 00:00:00  0.155102\n20 2023-05-08 05:00:00  0.152010\n21 2023-05-08 04:00:00  0.150838\n22 2023-05-08 23:00:00  0.130435\n23 2023-05-08 22:00:00  0.128682\n0.15517241379310345\n"
     ]
    }
   ],
   "source": [
    "print (forecast_df)\n",
    "print (green_energy_df)\n",
    "print (threshold_tariff)"
   ]
  },
  {
   "cell_type": "code",
   "execution_count": 0,
   "metadata": {
    "application/vnd.databricks.v1+cell": {
     "cellMetadata": {
      "byteLimit": 2048000,
      "rowLimit": 10000
     },
     "inputWidgets": {},
     "nuid": "5ea2d883-2b52-442b-89ce-4ebbd4ca221f",
     "showTitle": false,
     "title": ""
    }
   },
   "outputs": [],
   "source": [
    "# Merge the two dataframes on time\n",
    "merged_df = pd.merge(forecast_df, green_energy_df, on=\"Time\")"
   ]
  },
  {
   "cell_type": "code",
   "execution_count": 0,
   "metadata": {
    "application/vnd.databricks.v1+cell": {
     "cellMetadata": {
      "byteLimit": 2048000,
      "rowLimit": 10000
     },
     "inputWidgets": {},
     "nuid": "5fa3235f-04f4-4447-81cb-90f4694f5ead",
     "showTitle": false,
     "title": ""
    }
   },
   "outputs": [
    {
     "output_type": "display_data",
     "data": {
      "text/html": [
       "<div>\n",
       "<style scoped>\n",
       "    .dataframe tbody tr th:only-of-type {\n",
       "        vertical-align: middle;\n",
       "    }\n",
       "\n",
       "    .dataframe tbody tr th {\n",
       "        vertical-align: top;\n",
       "    }\n",
       "\n",
       "    .dataframe thead th {\n",
       "        text-align: right;\n",
       "    }\n",
       "</style>\n",
       "<table border=\"1\" class=\"dataframe\">\n",
       "  <thead>\n",
       "    <tr style=\"text-align: right;\">\n",
       "      <th></th>\n",
       "      <th>deviceid</th>\n",
       "      <th>Time</th>\n",
       "      <th>value</th>\n",
       "      <th>device_type</th>\n",
       "      <th>home_id</th>\n",
       "      <th>ISP</th>\n",
       "    </tr>\n",
       "  </thead>\n",
       "  <tbody>\n",
       "    <tr>\n",
       "      <th>0</th>\n",
       "      <td>domxem-C7F92D</td>\n",
       "      <td>2023-05-08 00:00:00</td>\n",
       "      <td>59.632738</td>\n",
       "      <td>1.0</td>\n",
       "      <td>82.0</td>\n",
       "      <td>0.155102</td>\n",
       "    </tr>\n",
       "    <tr>\n",
       "      <th>1</th>\n",
       "      <td>domxem-C7FCB5</td>\n",
       "      <td>2023-05-08 00:00:00</td>\n",
       "      <td>144.728927</td>\n",
       "      <td>1.0</td>\n",
       "      <td>81.0</td>\n",
       "      <td>0.155102</td>\n",
       "    </tr>\n",
       "    <tr>\n",
       "      <th>2</th>\n",
       "      <td>domxem3-3494546ED134</td>\n",
       "      <td>2023-05-08 00:00:00</td>\n",
       "      <td>110.709881</td>\n",
       "      <td>2.0</td>\n",
       "      <td>199.0</td>\n",
       "      <td>0.155102</td>\n",
       "    </tr>\n",
       "    <tr>\n",
       "      <th>3</th>\n",
       "      <td>domxem3-3494546ED524</td>\n",
       "      <td>2023-05-08 00:00:00</td>\n",
       "      <td>13.087863</td>\n",
       "      <td>2.0</td>\n",
       "      <td>275.0</td>\n",
       "      <td>0.155102</td>\n",
       "    </tr>\n",
       "    <tr>\n",
       "      <th>4</th>\n",
       "      <td>domxem3-349454717054</td>\n",
       "      <td>2023-05-08 00:00:00</td>\n",
       "      <td>188.367607</td>\n",
       "      <td>2.0</td>\n",
       "      <td>194.0</td>\n",
       "      <td>0.155102</td>\n",
       "    </tr>\n",
       "    <tr>\n",
       "      <th>...</th>\n",
       "      <td>...</td>\n",
       "      <td>...</td>\n",
       "      <td>...</td>\n",
       "      <td>...</td>\n",
       "      <td>...</td>\n",
       "      <td>...</td>\n",
       "    </tr>\n",
       "    <tr>\n",
       "      <th>769</th>\n",
       "      <td>domxem3-ECFABCC7F0D1</td>\n",
       "      <td>2023-05-08 23:00:00</td>\n",
       "      <td>94.744970</td>\n",
       "      <td>2.0</td>\n",
       "      <td>20.0</td>\n",
       "      <td>0.130435</td>\n",
       "    </tr>\n",
       "    <tr>\n",
       "      <th>770</th>\n",
       "      <td>domxem3-ECFABCC7F100</td>\n",
       "      <td>2023-05-08 23:00:00</td>\n",
       "      <td>276.169873</td>\n",
       "      <td>2.0</td>\n",
       "      <td>35.0</td>\n",
       "      <td>0.130435</td>\n",
       "    </tr>\n",
       "    <tr>\n",
       "      <th>771</th>\n",
       "      <td>domxem3-ECFABCC7F15D</td>\n",
       "      <td>2023-05-08 23:00:00</td>\n",
       "      <td>704.901137</td>\n",
       "      <td>2.0</td>\n",
       "      <td>37.0</td>\n",
       "      <td>0.130435</td>\n",
       "    </tr>\n",
       "    <tr>\n",
       "      <th>772</th>\n",
       "      <td>domxem3-FCF5C49559E1</td>\n",
       "      <td>2023-05-08 23:00:00</td>\n",
       "      <td>53.541722</td>\n",
       "      <td>2.0</td>\n",
       "      <td>129.0</td>\n",
       "      <td>0.130435</td>\n",
       "    </tr>\n",
       "    <tr>\n",
       "      <th>773</th>\n",
       "      <td>domxem3-FCF5C49641E6</td>\n",
       "      <td>2023-05-08 23:00:00</td>\n",
       "      <td>100.536754</td>\n",
       "      <td>2.0</td>\n",
       "      <td>147.0</td>\n",
       "      <td>0.130435</td>\n",
       "    </tr>\n",
       "  </tbody>\n",
       "</table>\n",
       "<p>774 rows × 6 columns</p>\n",
       "</div>"
      ]
     },
     "metadata": {
      "application/vnd.databricks.v1+output": {
       "addedWidgets": {},
       "arguments": {},
       "data": "<div>\n<style scoped>\n    .dataframe tbody tr th:only-of-type {\n        vertical-align: middle;\n    }\n\n    .dataframe tbody tr th {\n        vertical-align: top;\n    }\n\n    .dataframe thead th {\n        text-align: right;\n    }\n</style>\n<table border=\"1\" class=\"dataframe\">\n  <thead>\n    <tr style=\"text-align: right;\">\n      <th></th>\n      <th>deviceid</th>\n      <th>Time</th>\n      <th>value</th>\n      <th>device_type</th>\n      <th>home_id</th>\n      <th>ISP</th>\n    </tr>\n  </thead>\n  <tbody>\n    <tr>\n      <th>0</th>\n      <td>domxem-C7F92D</td>\n      <td>2023-05-08 00:00:00</td>\n      <td>59.632738</td>\n      <td>1.0</td>\n      <td>82.0</td>\n      <td>0.155102</td>\n    </tr>\n    <tr>\n      <th>1</th>\n      <td>domxem-C7FCB5</td>\n      <td>2023-05-08 00:00:00</td>\n      <td>144.728927</td>\n      <td>1.0</td>\n      <td>81.0</td>\n      <td>0.155102</td>\n    </tr>\n    <tr>\n      <th>2</th>\n      <td>domxem3-3494546ED134</td>\n      <td>2023-05-08 00:00:00</td>\n      <td>110.709881</td>\n      <td>2.0</td>\n      <td>199.0</td>\n      <td>0.155102</td>\n    </tr>\n    <tr>\n      <th>3</th>\n      <td>domxem3-3494546ED524</td>\n      <td>2023-05-08 00:00:00</td>\n      <td>13.087863</td>\n      <td>2.0</td>\n      <td>275.0</td>\n      <td>0.155102</td>\n    </tr>\n    <tr>\n      <th>4</th>\n      <td>domxem3-349454717054</td>\n      <td>2023-05-08 00:00:00</td>\n      <td>188.367607</td>\n      <td>2.0</td>\n      <td>194.0</td>\n      <td>0.155102</td>\n    </tr>\n    <tr>\n      <th>...</th>\n      <td>...</td>\n      <td>...</td>\n      <td>...</td>\n      <td>...</td>\n      <td>...</td>\n      <td>...</td>\n    </tr>\n    <tr>\n      <th>769</th>\n      <td>domxem3-ECFABCC7F0D1</td>\n      <td>2023-05-08 23:00:00</td>\n      <td>94.744970</td>\n      <td>2.0</td>\n      <td>20.0</td>\n      <td>0.130435</td>\n    </tr>\n    <tr>\n      <th>770</th>\n      <td>domxem3-ECFABCC7F100</td>\n      <td>2023-05-08 23:00:00</td>\n      <td>276.169873</td>\n      <td>2.0</td>\n      <td>35.0</td>\n      <td>0.130435</td>\n    </tr>\n    <tr>\n      <th>771</th>\n      <td>domxem3-ECFABCC7F15D</td>\n      <td>2023-05-08 23:00:00</td>\n      <td>704.901137</td>\n      <td>2.0</td>\n      <td>37.0</td>\n      <td>0.130435</td>\n    </tr>\n    <tr>\n      <th>772</th>\n      <td>domxem3-FCF5C49559E1</td>\n      <td>2023-05-08 23:00:00</td>\n      <td>53.541722</td>\n      <td>2.0</td>\n      <td>129.0</td>\n      <td>0.130435</td>\n    </tr>\n    <tr>\n      <th>773</th>\n      <td>domxem3-FCF5C49641E6</td>\n      <td>2023-05-08 23:00:00</td>\n      <td>100.536754</td>\n      <td>2.0</td>\n      <td>147.0</td>\n      <td>0.130435</td>\n    </tr>\n  </tbody>\n</table>\n<p>774 rows × 6 columns</p>\n</div>",
       "datasetInfos": [],
       "metadata": {},
       "removedWidgets": [],
       "textData": null,
       "type": "htmlSandbox"
      }
     },
     "output_type": "display_data"
    }
   ],
   "source": [
    "merged_df"
   ]
  },
  {
   "cell_type": "code",
   "execution_count": 0,
   "metadata": {
    "application/vnd.databricks.v1+cell": {
     "cellMetadata": {
      "byteLimit": 2048000,
      "rowLimit": 10000
     },
     "inputWidgets": {},
     "nuid": "939224cd-f281-4a34-83e2-83c79ed955c5",
     "showTitle": false,
     "title": ""
    }
   },
   "outputs": [
    {
     "output_type": "stream",
     "name": "stdout",
     "output_type": "stream",
     "text": [
      "Out[71]: array([[5.96327376e+01, 1.55102041e-01],\n       [1.44728927e+02, 1.55102041e-01],\n       [1.10709881e+02, 1.55102041e-01],\n       ...,\n       [7.04901137e+02, 1.30434783e-01],\n       [5.35417219e+01, 1.30434783e-01],\n       [1.00536754e+02, 1.30434783e-01]])"
     ]
    }
   ],
   "source": [
    "merged_df.iloc[:, [2, 5]].values"
   ]
  },
  {
   "cell_type": "code",
   "execution_count": 0,
   "metadata": {
    "application/vnd.databricks.v1+cell": {
     "cellMetadata": {
      "byteLimit": 2048000,
      "rowLimit": 10000
     },
     "inputWidgets": {},
     "nuid": "62db6fb0-87ce-402d-83d9-9e8bbfee2aa0",
     "showTitle": false,
     "title": ""
    }
   },
   "outputs": [],
   "source": [
    "# Define the input features and output variable\n",
    "X = merged_df.iloc[:, [2, 5]].values # Select all columns except deviceid, time, device_type_text and green_energy_value\n",
    "y = np.where(merged_df[\"ISP\"] <= threshold_tariff, 0, 1) # Set output variable to 0 if green energy value is less than 0.5, otherwise set to 1"
   ]
  },
  {
   "cell_type": "code",
   "execution_count": 0,
   "metadata": {
    "application/vnd.databricks.v1+cell": {
     "cellMetadata": {
      "byteLimit": 2048000,
      "rowLimit": 10000
     },
     "inputWidgets": {},
     "nuid": "96a77777-9955-4654-8af4-d9bb1d650f21",
     "showTitle": false,
     "title": ""
    }
   },
   "outputs": [
    {
     "output_type": "stream",
     "name": "stdout",
     "output_type": "stream",
     "text": [
      "Out[73]: array([[5.96327376e+01, 1.55102041e-01],\n       [1.44728927e+02, 1.55102041e-01],\n       [1.10709881e+02, 1.55102041e-01],\n       ...,\n       [7.04901137e+02, 1.30434783e-01],\n       [5.35417219e+01, 1.30434783e-01],\n       [1.00536754e+02, 1.30434783e-01]])"
     ]
    }
   ],
   "source": [
    "X"
   ]
  },
  {
   "cell_type": "code",
   "execution_count": 0,
   "metadata": {
    "application/vnd.databricks.v1+cell": {
     "cellMetadata": {
      "byteLimit": 2048000,
      "rowLimit": 10000
     },
     "inputWidgets": {},
     "nuid": "1a819c51-e594-4991-919a-a1089a271fbc",
     "showTitle": false,
     "title": ""
    }
   },
   "outputs": [
    {
     "output_type": "stream",
     "name": "stdout",
     "output_type": "stream",
     "text": [
      "Out[74]: array([0, 0, 0, 0, 0, 0, 0, 0, 0, 0, 0, 0, 0, 0, 0, 0, 0, 0, 0, 0, 0, 0,\n       0, 0, 0, 0, 0, 0, 0, 0, 0, 0, 1, 1, 1, 1, 1, 1, 1, 1, 1, 1, 1, 1,\n       1, 1, 1, 1, 1, 1, 1, 1, 1, 1, 1, 1, 1, 1, 1, 1, 1, 1, 1, 1, 0, 0,\n       0, 0, 0, 0, 0, 0, 0, 0, 0, 0, 0, 0, 0, 0, 0, 0, 0, 0, 0, 0, 0, 0,\n       0, 0, 0, 0, 0, 0, 0, 0, 1, 1, 1, 1, 1, 1, 1, 1, 1, 1, 1, 1, 1, 1,\n       1, 1, 1, 1, 1, 1, 1, 1, 1, 1, 1, 1, 1, 1, 1, 1, 1, 1, 0, 0, 0, 0,\n       0, 0, 0, 0, 0, 0, 0, 0, 0, 0, 0, 0, 0, 0, 0, 0, 0, 0, 0, 0, 0, 0,\n       0, 0, 0, 0, 0, 0, 0, 0, 0, 0, 0, 0, 0, 0, 0, 0, 0, 0, 0, 0, 0, 0,\n       0, 0, 0, 0, 0, 0, 0, 0, 0, 0, 0, 0, 0, 0, 0, 0, 1, 1, 1, 1, 1, 1,\n       1, 1, 1, 1, 1, 1, 1, 1, 1, 1, 1, 1, 1, 1, 1, 1, 1, 1, 1, 1, 1, 1,\n       1, 1, 1, 1, 1, 1, 1, 1, 1, 1, 1, 1, 1, 1, 1, 1, 1, 1, 1, 1, 1, 1,\n       1, 1, 1, 1, 1, 1, 1, 1, 1, 1, 1, 1, 1, 1, 1, 1, 1, 1, 1, 1, 1, 1,\n       1, 1, 1, 1, 1, 1, 1, 1, 1, 1, 1, 1, 1, 1, 1, 1, 1, 1, 1, 1, 1, 1,\n       1, 1, 1, 1, 1, 1, 1, 1, 1, 1, 1, 1, 1, 1, 1, 1, 1, 1, 1, 1, 1, 1,\n       1, 1, 1, 1, 1, 1, 1, 1, 1, 1, 1, 1, 1, 1, 1, 1, 1, 1, 1, 1, 1, 1,\n       1, 1, 1, 1, 1, 1, 1, 1, 1, 1, 1, 1, 1, 1, 1, 1, 1, 1, 1, 1, 1, 1,\n       1, 1, 1, 1, 1, 1, 1, 1, 1, 1, 1, 1, 1, 1, 1, 1, 1, 1, 1, 1, 1, 1,\n       1, 1, 1, 1, 1, 1, 1, 1, 1, 1, 1, 1, 1, 1, 1, 1, 1, 1, 1, 1, 1, 1,\n       1, 1, 1, 1, 1, 1, 1, 1, 1, 1, 1, 1, 1, 1, 1, 1, 1, 1, 1, 1, 1, 1,\n       1, 1, 1, 1, 1, 1, 1, 1, 1, 1, 1, 1, 1, 1, 1, 1, 1, 1, 1, 1, 1, 1,\n       1, 1, 1, 1, 1, 1, 1, 1, 1, 1, 1, 1, 1, 1, 1, 1, 1, 1, 1, 1, 1, 1,\n       1, 1, 1, 1, 1, 1, 1, 1, 1, 1, 1, 1, 1, 1, 1, 1, 1, 1, 1, 1, 1, 1,\n       1, 1, 1, 1, 1, 1, 1, 1, 1, 1, 1, 1, 1, 1, 1, 1, 1, 1, 1, 1, 1, 1,\n       1, 1, 1, 1, 1, 1, 1, 1, 1, 1, 1, 1, 1, 1, 1, 1, 1, 1, 1, 1, 1, 1,\n       1, 1, 1, 1, 1, 1, 1, 1, 1, 1, 1, 1, 1, 1, 1, 1, 1, 1, 1, 1, 1, 1,\n       1, 1, 1, 1, 1, 1, 1, 1, 1, 1, 1, 1, 1, 1, 1, 1, 1, 1, 1, 1, 1, 1,\n       1, 1, 1, 1, 1, 1, 1, 1, 1, 1, 1, 1, 1, 1, 1, 1, 1, 1, 1, 1, 1, 1,\n       1, 1, 1, 1, 1, 1, 1, 1, 1, 1, 1, 1, 1, 1, 1, 1, 1, 1, 1, 1, 1, 1,\n       1, 1, 1, 1, 1, 1, 1, 1, 1, 1, 1, 1, 1, 1, 1, 1, 1, 1, 1, 1, 1, 1,\n       1, 1, 1, 1, 1, 1, 1, 1, 1, 1, 1, 1, 1, 1, 1, 1, 1, 1, 1, 1, 1, 1,\n       1, 1, 1, 1, 1, 1, 1, 1, 1, 1, 1, 1, 1, 1, 1, 1, 1, 1, 1, 1, 1, 1,\n       1, 1, 1, 1, 1, 1, 1, 1, 1, 1, 1, 1, 1, 1, 1, 1, 1, 1, 1, 1, 1, 1,\n       1, 1, 1, 1, 0, 0, 0, 0, 0, 0, 0, 0, 0, 0, 0, 0, 0, 0, 0, 0, 0, 0,\n       0, 0, 0, 0, 0, 0, 0, 0, 0, 0, 0, 0, 0, 0, 0, 0, 0, 0, 0, 0, 0, 0,\n       0, 0, 0, 0, 0, 0, 0, 0, 0, 0, 0, 0, 0, 0, 0, 0, 0, 0, 0, 0, 0, 0,\n       0, 0, 0, 0])"
     ]
    }
   ],
   "source": [
    "y"
   ]
  },
  {
   "cell_type": "code",
   "execution_count": 0,
   "metadata": {
    "application/vnd.databricks.v1+cell": {
     "cellMetadata": {
      "byteLimit": 2048000,
      "rowLimit": 10000
     },
     "inputWidgets": {},
     "nuid": "ccd2ad12-d8b3-4370-834d-bc922233b036",
     "showTitle": false,
     "title": ""
    }
   },
   "outputs": [
    {
     "output_type": "stream",
     "name": "stdout",
     "output_type": "stream",
     "text": [
      "Epoch 1/10\n\r 1/20 [>.............................] - ETA: 11s - loss: 0.6369 - accuracy: 0.9062WARNING:tensorflow:Callback method `on_train_batch_end` is slow compared to the batch time (batch time: 0.0010s vs `on_train_batch_end` time: 0.0020s). Check your callbacks.\nWARNING:tensorflow:Callback method `on_train_batch_end` is slow compared to the batch time (batch time: 0.0010s vs `on_train_batch_end` time: 0.0020s). Check your callbacks.\n\b\b\b\b\b\b\b\b\b\b\b\b\b\b\b\b\b\b\b\b\b\b\b\b\b\b\b\b\b\b\b\b\b\b\b\b\b\b\b\b\b\b\b\b\b\b\b\b\b\b\b\b\b\b\b\b\b\b\b\b\b\b\b\b\b\b\b\b\b\b\b\b\b\b\b\b\b\b\b\b\b\b\b\r20/20 [==============================] - 1s 15ms/step - loss: 0.6076 - accuracy: 0.7496 - val_loss: 0.5564 - val_accuracy: 0.7419\nEpoch 2/10\n\r 1/20 [>.............................] - ETA: 0s - loss: 0.5450 - accuracy: 0.7500\b\b\b\b\b\b\b\b\b\b\b\b\b\b\b\b\b\b\b\b\b\b\b\b\b\b\b\b\b\b\b\b\b\b\b\b\b\b\b\b\b\b\b\b\b\b\b\b\b\b\b\b\b\b\b\b\b\b\b\b\b\b\b\b\b\b\b\b\b\b\b\b\b\b\b\b\b\b\b\b\b\b\r20/20 [==============================] - 0s 3ms/step - loss: 0.5131 - accuracy: 0.7512 - val_loss: 0.4781 - val_accuracy: 0.7419\nEpoch 3/10\n\r 1/20 [>.............................] - ETA: 0s - loss: 0.4964 - accuracy: 0.7188\b\b\b\b\b\b\b\b\b\b\b\b\b\b\b\b\b\b\b\b\b\b\b\b\b\b\b\b\b\b\b\b\b\b\b\b\b\b\b\b\b\b\b\b\b\b\b\b\b\b\b\b\b\b\b\b\b\b\b\b\b\b\b\b\b\b\b\b\b\b\b\b\b\b\b\b\b\b\b\b\b\b\r20/20 [==============================] - 0s 3ms/step - loss: 0.4570 - accuracy: 0.7512 - val_loss: 0.4401 - val_accuracy: 0.7419\nEpoch 4/10\n\r 1/20 [>.............................] - ETA: 0s - loss: 0.4189 - accuracy: 0.7500\b\b\b\b\b\b\b\b\b\b\b\b\b\b\b\b\b\b\b\b\b\b\b\b\b\b\b\b\b\b\b\b\b\b\b\b\b\b\b\b\b\b\b\b\b\b\b\b\b\b\b\b\b\b\b\b\b\b\b\b\b\b\b\b\b\b\b\b\b\b\b\b\b\b\b\b\b\b\b\b\b\b\r20/20 [==============================] - 0s 3ms/step - loss: 0.4215 - accuracy: 0.7512 - val_loss: 0.4070 - val_accuracy: 0.7419\nEpoch 5/10\n\r 1/20 [>.............................] - ETA: 0s - loss: 0.4091 - accuracy: 0.7812\b\b\b\b\b\b\b\b\b\b\b\b\b\b\b\b\b\b\b\b\b\b\b\b\b\b\b\b\b\b\b\b\b\b\b\b\b\b\b\b\b\b\b\b\b\b\b\b\b\b\b\b\b\b\b\b\b\b\b\b\b\b\b\b\b\b\b\b\b\b\b\b\b\b\b\b\b\b\b\b\b\b\r20/20 [==============================] - 0s 3ms/step - loss: 0.3892 - accuracy: 0.7512 - val_loss: 0.3754 - val_accuracy: 0.7419\nEpoch 6/10\n\r 1/20 [>.............................] - ETA: 0s - loss: 0.4230 - accuracy: 0.6875\b\b\b\b\b\b\b\b\b\b\b\b\b\b\b\b\b\b\b\b\b\b\b\b\b\b\b\b\b\b\b\b\b\b\b\b\b\b\b\b\b\b\b\b\b\b\b\b\b\b\b\b\b\b\b\b\b\b\b\b\b\b\b\b\b\b\b\b\b\b\b\b\b\b\b\b\b\b\b\b\b\b\r20/20 [==============================] - 0s 3ms/step - loss: 0.3603 - accuracy: 0.7528 - val_loss: 0.3441 - val_accuracy: 0.7419\nEpoch 7/10\n\r 1/20 [>.............................] - ETA: 0s - loss: 0.3609 - accuracy: 0.6875\b\b\b\b\b\b\b\b\b\b\b\b\b\b\b\b\b\b\b\b\b\b\b\b\b\b\b\b\b\b\b\b\b\b\b\b\b\b\b\b\b\b\b\b\b\b\b\b\b\b\b\b\b\b\b\b\b\b\b\b\b\b\b\b\b\b\b\b\b\b\b\b\b\b\b\b\b\b\b\b\b\b\r20/20 [==============================] - 0s 3ms/step - loss: 0.3325 - accuracy: 0.7819 - val_loss: 0.3199 - val_accuracy: 0.8387\nEpoch 8/10\n\r 1/20 [>.............................] - ETA: 0s - loss: 0.3453 - accuracy: 0.8125\b\b\b\b\b\b\b\b\b\b\b\b\b\b\b\b\b\b\b\b\b\b\b\b\b\b\b\b\b\b\b\b\b\b\b\b\b\b\b\b\b\b\b\b\b\b\b\b\b\b\b\b\b\b\b\b\b\b\b\b\b\b\b\b\b\b\b\b\b\b\b\b\b\b\b\b\b\b\b\b\b\b\r20/20 [==============================] - 0s 3ms/step - loss: 0.3157 - accuracy: 0.8142 - val_loss: 0.3000 - val_accuracy: 0.8387\nEpoch 9/10\n\r 1/20 [>.............................] - ETA: 0s - loss: 0.3083 - accuracy: 0.8750\b\b\b\b\b\b\b\b\b\b\b\b\b\b\b\b\b\b\b\b\b\b\b\b\b\b\b\b\b\b\b\b\b\b\b\b\b\b\b\b\b\b\b\b\b\b\b\b\b\b\b\b\b\b\b\b\b\b\b\b\b\b\b\b\b\b\b\b\b\b\b\b\b\b\b\b\b\b\b\b\b\b\r20/20 [==============================] - 0s 3ms/step - loss: 0.2981 - accuracy: 0.8481 - val_loss: 0.2823 - val_accuracy: 0.8516\nEpoch 10/10\n\r 1/20 [>.............................] - ETA: 0s - loss: 0.3358 - accuracy: 0.7812\b\b\b\b\b\b\b\b\b\b\b\b\b\b\b\b\b\b\b\b\b\b\b\b\b\b\b\b\b\b\b\b\b\b\b\b\b\b\b\b\b\b\b\b\b\b\b\b\b\b\b\b\b\b\b\b\b\b\b\b\b\b\b\b\b\b\b\b\b\b\b\b\b\b\b\b\b\b\b\b\b\b\r20/20 [==============================] - 0s 3ms/step - loss: 0.2780 - accuracy: 0.8885 - val_loss: 0.2654 - val_accuracy: 0.9097\n\r1/1 [==============================] - ETA: 0s\b\b\b\b\b\b\b\b\b\b\b\b\b\b\b\b\b\b\b\b\b\b\b\b\b\b\b\b\b\b\b\b\b\b\b\b\b\b\b\b\b\b\b\b\b\b\r1/1 [==============================] - 0s 47ms/step\nWARNING:absl:Found untraced functions such as _update_step_xla while saving (showing 1 of 1). These functions will not be directly callable after loading.\nINFO:tensorflow:Assets written to: /tmp/tmpiqp4sj0m/model/data/model/assets\nINFO:tensorflow:Assets written to: /tmp/tmpiqp4sj0m/model/data/model/assets\n\r1/5 [=====>........................] - ETA: 0s - loss: 0.3060 - accuracy: 0.8750\b\b\b\b\b\b\b\b\b\b\b\b\b\b\b\b\b\b\b\b\b\b\b\b\b\b\b\b\b\b\b\b\b\b\b\b\b\b\b\b\b\b\b\b\b\b\b\b\b\b\b\b\b\b\b\b\b\b\b\b\b\b\b\b\b\b\b\b\b\b\b\b\b\b\b\b\b\b\b\b\r5/5 [==============================] - 0s 2ms/step - loss: 0.2654 - accuracy: 0.9097\nTesting accuracy: 0.91\n"
     ]
    }
   ],
   "source": [
    "\n",
    "\n",
    "# Normalize the input features\n",
    "scaler = MinMaxScaler()\n",
    "X = scaler.fit_transform(X)\n",
    "\n",
    "# Split the data into training and testing sets\n",
    "X_train, X_test, y_train, y_test = train_test_split(X, y, test_size=0.2, random_state=42)\n",
    "\n",
    "# Define the neural network architecture\n",
    "model = Sequential([\n",
    "    Dense(64, activation=\"relu\", input_dim=X.shape[1]),\n",
    "    Dropout(0.2),\n",
    "    Dense(32, activation=\"relu\"),\n",
    "    Dropout(0.2),\n",
    "    Dense(1, activation=\"sigmoid\")\n",
    "])\n",
    "\n",
    "# Compile the model\n",
    "model.compile(loss=\"binary_crossentropy\", optimizer=\"adam\", metrics=[\"accuracy\"])\n",
    "\n",
    "# Train the model\n",
    "model.fit(X_train, y_train, epochs=10, batch_size=32, validation_data=(X_test, y_test))\n",
    "\n",
    "# Evaluate the model on the testing data\n",
    "loss, accuracy = model.evaluate(X_test, y_test)\n",
    "print(f\"Testing accuracy: {accuracy:.2f}\")\n",
    "\n"
   ]
  },
  {
   "cell_type": "code",
   "execution_count": 0,
   "metadata": {
    "application/vnd.databricks.v1+cell": {
     "cellMetadata": {
      "byteLimit": 2048000,
      "rowLimit": 10000
     },
     "inputWidgets": {},
     "nuid": "f19c9e6b-792c-4250-8f3d-b6164f5bdcd5",
     "showTitle": false,
     "title": ""
    }
   },
   "outputs": [
    {
     "output_type": "stream",
     "name": "stdout",
     "output_type": "stream",
     "text": [
      "\r 1/25 [>.............................] - ETA: 0s\b\b\b\b\b\b\b\b\b\b\b\b\b\b\b\b\b\b\b\b\b\b\b\b\b\b\b\b\b\b\b\b\b\b\b\b\b\b\b\b\b\b\b\b\b\b\b\b\r25/25 [==============================] - 0s 850us/step\n"
     ]
    }
   ],
   "source": [
    "# Use the model to generate the recommendation for each device\n",
    "merged_df[\"prediction\"] = model.predict(X) # Generate a prediction for each row in the merged dataframe\n",
    "merged_df[\"recommendation\"] = np.where((merged_df[\"prediction\"] < 0.51) & (merged_df[\"value\"] > 100), \"Please avoid using electricity during this period\", \"\") # Generate a recommendation based on the prediction\n"
   ]
  },
  {
   "cell_type": "code",
   "execution_count": 0,
   "metadata": {
    "application/vnd.databricks.v1+cell": {
     "cellMetadata": {
      "byteLimit": 2048000,
      "rowLimit": 10000
     },
     "inputWidgets": {},
     "nuid": "0c6b20f5-a867-4d02-8e43-867fbd7aa8e2",
     "showTitle": false,
     "title": ""
    }
   },
   "outputs": [
    {
     "output_type": "stream",
     "name": "stdout",
     "output_type": "stream",
     "text": [
      "\r 1/25 [>.............................] - ETA: 0s\b\b\b\b\b\b\b\b\b\b\b\b\b\b\b\b\b\b\b\b\b\b\b\b\b\b\b\b\b\b\b\b\b\b\b\b\b\b\b\b\b\b\b\b\b\b\b\b\r25/25 [==============================] - 0s 833us/step\nOut[77]: array([[0.5031766 ],\n       [0.49502897],\n       [0.4982861 ],\n       [0.50763273],\n       [0.4908515 ],\n       [0.5049343 ],\n       [0.50726587],\n       [0.50249135],\n       [0.503879  ],\n       [0.50539213],\n       [0.50452846],\n       [0.503497  ],\n       [0.50430566],\n       [0.49442008],\n       [0.5075494 ],\n       [0.5303731 ],\n       [0.62812686],\n       [0.50074816],\n       [0.5092928 ],\n       [0.501282  ],\n       [0.5055588 ],\n       [0.5058777 ],\n       [0.48775855],\n       [0.50332266],\n       [0.5042131 ],\n       [0.5066359 ],\n       [0.5034939 ],\n       [0.5015835 ],\n       [0.50816876],\n       [0.50209635],\n       [0.46999365],\n       [0.49608386],\n       [0.51127774],\n       [0.50630987],\n       [0.5035736 ],\n       [0.51488984],\n       [0.5140714 ],\n       [0.5117229 ],\n       [0.51449347],\n       [0.50934964],\n       [0.5108687 ],\n       [0.51250184],\n       [0.511388  ],\n       [0.5103522 ],\n       [0.5118373 ],\n       [0.50224054],\n       [0.5147789 ],\n       [0.5393824 ],\n       [0.4682899 ],\n       [0.51278263],\n       [0.5163956 ],\n       [0.5086028 ],\n       [0.50260603],\n       [0.50782436],\n       [0.48127213],\n       [0.5103203 ],\n       [0.51208955],\n       [0.5135792 ],\n       [0.51121247],\n       [0.50881845],\n       [0.5146319 ],\n       [0.5066506 ],\n       [0.49678746],\n       [0.5112636 ],\n       [0.50343025],\n       [0.50271416],\n       [0.49662417],\n       [0.50716466],\n       [0.5076244 ],\n       [0.5052762 ],\n       [0.5078078 ],\n       [0.5040668 ],\n       [0.50449735],\n       [0.5057284 ],\n       [0.5042684 ],\n       [0.50390625],\n       [0.50631523],\n       [0.49742973],\n       [0.50784016],\n       [0.53103244],\n       [0.5647934 ],\n       [0.5067846 ],\n       [0.5096419 ],\n       [0.50162673],\n       [0.50076765],\n       [0.5034958 ],\n       [0.47447625],\n       [0.5034869 ],\n       [0.50528294],\n       [0.50683975],\n       [0.5065164 ],\n       [0.5024124 ],\n       [0.5081458 ],\n       [0.5018015 ],\n       [0.50425506],\n       [0.49676186],\n       [0.5184745 ],\n       [0.5137899 ],\n       [0.51228756],\n       [0.5221982 ],\n       [0.5215525 ],\n       [0.51808494],\n       [0.5217829 ],\n       [0.51835406],\n       [0.51899713],\n       [0.5197242 ],\n       [0.5179353 ],\n       [0.51627785],\n       [0.51913613],\n       [0.5102088 ],\n       [0.5220586 ],\n       [0.5444793 ],\n       [0.6562253 ],\n       [0.52077794],\n       [0.5235969 ],\n       [0.5162545 ],\n       [0.51821315],\n       [0.5163651 ],\n       [0.48269975],\n       [0.51777387],\n       [0.51954216],\n       [0.5210473 ],\n       [0.5166266 ],\n       [0.51689017],\n       [0.5224962 ],\n       [0.5197286 ],\n       [0.51663744],\n       [0.50303835],\n       [0.48291758],\n       [0.48160905],\n       [0.4747413 ],\n       [0.48710856],\n       [0.48594972],\n       [0.48430583],\n       [0.48666394],\n       [0.47982112],\n       [0.48175964],\n       [0.48457813],\n       [0.48379973],\n       [0.4819123 ],\n       [0.48129973],\n       [0.47042578],\n       [0.4866417 ],\n       [0.5088174 ],\n       [0.59730834],\n       [0.48549563],\n       [0.48851576],\n       [0.4814471 ],\n       [0.4849834 ],\n       [0.48305592],\n       [0.46737406],\n       [0.48287985],\n       [0.4841041 ],\n       [0.48574495],\n       [0.48425066],\n       [0.4815178 ],\n       [0.4873698 ],\n       [0.48528743],\n       [0.48384535],\n       [0.43465808],\n       [0.4885849 ],\n       [0.48764765],\n       [0.4860696 ],\n       [0.49200237],\n       [0.49212065],\n       [0.48987812],\n       [0.4921703 ],\n       [0.48220617],\n       [0.48931867],\n       [0.48974955],\n       [0.48868805],\n       [0.48794842],\n       [0.48999077],\n       [0.46855333],\n       [0.49246076],\n       [0.5182566 ],\n       [0.50199705],\n       [0.49122354],\n       [0.494225  ],\n       [0.48651108],\n       [0.4900893 ],\n       [0.48991987],\n       [0.4574804 ],\n       [0.48815373],\n       [0.4901993 ],\n       [0.49165198],\n       [0.48992118],\n       [0.48796448],\n       [0.49157384],\n       [0.49117228],\n       [0.48360887],\n       [0.442458  ],\n       [0.80252814],\n       [0.7814232 ],\n       [0.79899126],\n       [0.8046576 ],\n       [0.804361  ],\n       [0.80214465],\n       [0.803551  ],\n       [0.80054724],\n       [0.7943785 ],\n       [0.7995176 ],\n       [0.8025727 ],\n       [0.801066  ],\n       [0.8016539 ],\n       [0.7917601 ],\n       [0.80467135],\n       [0.81796   ],\n       [0.87330526],\n       [0.80382675],\n       [0.8056929 ],\n       [0.80018425],\n       [0.8026573 ],\n       [0.8019454 ],\n       [0.6322783 ],\n       [0.80211073],\n       [0.80303675],\n       [0.8001926 ],\n       [0.8018288 ],\n       [0.8014378 ],\n       [0.8049819 ],\n       [0.8036903 ],\n       [0.79428834],\n       [0.78329104],\n       [0.97034377],\n       [0.9691801 ],\n       [0.9700618 ],\n       [0.9707021 ],\n       [0.9706652 ],\n       [0.9703773 ],\n       [0.97068435],\n       [0.9703032 ],\n       [0.9699777 ],\n       [0.9700834 ],\n       [0.97050923],\n       [0.96756566],\n       [0.96944183],\n       [0.96971995],\n       [0.97070336],\n       [0.9728203 ],\n       [0.9736318 ],\n       [0.9703749 ],\n       [0.9706608 ],\n       [0.9701098 ],\n       [0.97057587],\n       [0.97059494],\n       [0.9667068 ],\n       [0.9687137 ],\n       [0.9705074 ],\n       [0.97016144],\n       [0.9704037 ],\n       [0.9697455 ],\n       [0.9707481 ],\n       [0.9706219 ],\n       [0.96973795],\n       [0.9670031 ],\n       [0.99619704],\n       [0.9960892 ],\n       [0.9959092 ],\n       [0.99622744],\n       [0.99622166],\n       [0.9959859 ],\n       [0.99622333],\n       [0.99615586],\n       [0.99616283],\n       [0.9961725 ],\n       [0.99620116],\n       [0.99584776],\n       [0.9961461 ],\n       [0.996134  ],\n       [0.9962242 ],\n       [0.9964382 ],\n       [0.99573755],\n       [0.9961542 ],\n       [0.996221  ],\n       [0.9961653 ],\n       [0.9961943 ],\n       [0.9961724 ],\n       [0.99505484],\n       [0.99621   ],\n       [0.9961024 ],\n       [0.9961615 ],\n       [0.9961759 ],\n       [0.99617755],\n       [0.996227  ],\n       [0.99621445],\n       [0.9961313 ],\n       [0.99594146],\n       [0.99908656],\n       [0.9990803 ],\n       [0.9989856 ],\n       [0.999094  ],\n       [0.9990203 ],\n       [0.9990681 ],\n       [0.99909484],\n       [0.999081  ],\n       [0.9990659 ],\n       [0.9990859 ],\n       [0.9990887 ],\n       [0.9990406 ],\n       [0.99905497],\n       [0.99907017],\n       [0.999092  ],\n       [0.999146  ],\n       [0.9993787 ],\n       [0.9990741 ],\n       [0.99908495],\n       [0.9990064 ],\n       [0.9990925 ],\n       [0.9990904 ],\n       [0.9988901 ],\n       [0.9990937 ],\n       [0.99908656],\n       [0.9990803 ],\n       [0.9990816 ],\n       [0.9990663 ],\n       [0.9990945 ],\n       [0.99909216],\n       [0.9990662 ],\n       [0.99908835],\n       [0.9997317 ],\n       [0.9997312 ],\n       [0.9997082 ],\n       [0.9997249 ],\n       [0.9996689 ],\n       [0.9997251 ],\n       [0.9997337 ],\n       [0.9997273 ],\n       [0.9997328 ],\n       [0.99972874],\n       [0.9997309 ],\n       [0.99968517],\n       [0.99973017],\n       [0.9997266 ],\n       [0.9997327 ],\n       [0.99974775],\n       [0.9997928 ],\n       [0.9997294 ],\n       [0.99973136],\n       [0.9997075 ],\n       [0.9997318 ],\n       [0.9997249 ],\n       [0.99967813],\n       [0.9997341 ],\n       [0.9997294 ],\n       [0.99973035],\n       [0.99973124],\n       [0.9997285 ],\n       [0.9997341 ],\n       [0.99973035],\n       [0.9997264 ],\n       [0.99972796],\n       [0.9998594 ],\n       [0.9998581 ],\n       [0.9998555 ],\n       [0.9998597 ],\n       [0.99984634],\n       [0.99985355],\n       [0.99986047],\n       [0.99985206],\n       [0.99984795],\n       [0.9998552 ],\n       [0.9998596 ],\n       [0.99984264],\n       [0.99985784],\n       [0.99985754],\n       [0.99986017],\n       [0.9998672 ],\n       [0.9998458 ],\n       [0.99986005],\n       [0.99985945],\n       [0.99984705],\n       [0.9998602 ],\n       [0.9998582 ],\n       [0.9998364 ],\n       [0.99986035],\n       [0.99984765],\n       [0.99985975],\n       [0.99986017],\n       [0.9998538 ],\n       [0.99986064],\n       [0.999859  ],\n       [0.99985284],\n       [0.9998542 ],\n       [0.9998851 ],\n       [0.9998844 ],\n       [0.99988055],\n       [0.9998857 ],\n       [0.99987376],\n       [0.9998817 ],\n       [0.99988604],\n       [0.99988264],\n       [0.9998851 ],\n       [0.99986356],\n       [0.9998855 ],\n       [0.999861  ],\n       [0.9998849 ],\n       [0.9998839 ],\n       [0.9998855 ],\n       [0.99989164],\n       [0.99989074],\n       [0.9998815 ],\n       [0.9998864 ],\n       [0.9998835 ],\n       [0.9998852 ],\n       [0.99988467],\n       [0.9998582 ],\n       [0.9998859 ],\n       [0.99987924],\n       [0.9998858 ],\n       [0.999884  ],\n       [0.9998809 ],\n       [0.99988604],\n       [0.9998846 ],\n       [0.9998807 ],\n       [0.9998818 ],\n       [0.9998791 ],\n       [0.9998686 ],\n       [0.9998726 ],\n       [0.99987954],\n       [0.99987364],\n       [0.9998785 ],\n       [0.9998798 ],\n       [0.9998779 ],\n       [0.9998797 ],\n       [0.99987173],\n       [0.99987936],\n       [0.9998685 ],\n       [0.9998793 ],\n       [0.99987656],\n       [0.9998728 ],\n       [0.99988973],\n       [0.9999072 ],\n       [0.99987227],\n       [0.99988025],\n       [0.99986714],\n       [0.9998794 ],\n       [0.9998784 ],\n       [0.99986446],\n       [0.99987996],\n       [0.99987847],\n       [0.9998797 ],\n       [0.99987876],\n       [0.99987835],\n       [0.9998799 ],\n       [0.9998794 ],\n       [0.9998736 ],\n       [0.9998756 ],\n       [0.9997929 ],\n       [0.9997893 ],\n       [0.9997859 ],\n       [0.9997946 ],\n       [0.9997881 ],\n       [0.9997927 ],\n       [0.9997948 ],\n       [0.9997908 ],\n       [0.99979097],\n       [0.99978316],\n       [0.9997936 ],\n       [0.9997876 ],\n       [0.99979436],\n       [0.9997905 ],\n       [0.99979365],\n       [0.9998228 ],\n       [0.9998415 ],\n       [0.9997922 ],\n       [0.9997946 ],\n       [0.99977416],\n       [0.9997939 ],\n       [0.99979156],\n       [0.99978864],\n       [0.9997853 ],\n       [0.9997926 ],\n       [0.9997944 ],\n       [0.9997921 ],\n       [0.9997932 ],\n       [0.9997951 ],\n       [0.9997941 ],\n       [0.9997892 ],\n       [0.9997902 ],\n       [0.99931633],\n       [0.9993056 ],\n       [0.9993175 ],\n       [0.99931973],\n       [0.99929833],\n       [0.999304  ],\n       [0.9993215 ],\n       [0.99930924],\n       [0.99930936],\n       [0.9992806 ],\n       [0.99931675],\n       [0.9992995 ],\n       [0.999319  ],\n       [0.99930716],\n       [0.99931926],\n       [0.99939555],\n       [0.9992999 ],\n       [0.9993058 ],\n       [0.9992567 ],\n       [0.9992675 ],\n       [0.999317  ],\n       [0.9993209 ],\n       [0.9992631 ],\n       [0.999312  ],\n       [0.9993143 ],\n       [0.99932015],\n       [0.99931216],\n       [0.9993159 ],\n       [0.9993225 ],\n       [0.9993195 ],\n       [0.99929774],\n       [0.9992923 ],\n       [0.9954998 ],\n       [0.9953542 ],\n       [0.995507  ],\n       [0.9955311 ],\n       [0.99524015],\n       [0.99546677],\n       [0.9955366 ],\n       [0.99546784],\n       [0.99545383],\n       [0.9950867 ],\n       [0.99551195],\n       [0.9948962 ],\n       [0.99550545],\n       [0.99539274],\n       [0.9955171 ],\n       [0.9957609 ],\n       [0.9965355 ],\n       [0.99538785],\n       [0.99550194],\n       [0.9954295 ],\n       [0.99552655],\n       [0.995505  ],\n       [0.9946083 ],\n       [0.99550414],\n       [0.9954907 ],\n       [0.99552983],\n       [0.99542123],\n       [0.99543023],\n       [0.9955059 ],\n       [0.9955113 ],\n       [0.9955045 ],\n       [0.9949148 ],\n       [0.9520112 ],\n       [0.9514851 ],\n       [0.95110023],\n       [0.9512092 ],\n       [0.9482549 ],\n       [0.9519833 ],\n       [0.95241076],\n       [0.95147455],\n       [0.9513025 ],\n       [0.9472978 ],\n       [0.95198065],\n       [0.9391196 ],\n       [0.95125574],\n       [0.94993794],\n       [0.9519969 ],\n       [0.95967317],\n       [0.9585377 ],\n       [0.9499048 ],\n       [0.95245427],\n       [0.95119774],\n       [0.9519474 ],\n       [0.9515979 ],\n       [0.94883084],\n       [0.95232916],\n       [0.9515243 ],\n       [0.9522926 ],\n       [0.9500778 ],\n       [0.9508133 ],\n       [0.951675  ],\n       [0.9521931 ],\n       [0.9521126 ],\n       [0.94656175],\n       [0.87492007],\n       [0.8717569 ],\n       [0.86907166],\n       [0.8753435 ],\n       [0.84860146],\n       [0.8740916 ],\n       [0.8762224 ],\n       [0.8722538 ],\n       [0.8726149 ],\n       [0.8578137 ],\n       [0.8746903 ],\n       [0.8463622 ],\n       [0.8724175 ],\n       [0.86868984],\n       [0.8632546 ],\n       [0.8861665 ],\n       [0.8724157 ],\n       [0.86823636],\n       [0.87059975],\n       [0.8765955 ],\n       [0.86695415],\n       [0.875962  ],\n       [0.8609176 ],\n       [0.8598421 ],\n       [0.8763348 ],\n       [0.8735549 ],\n       [0.8759799 ],\n       [0.87010765],\n       [0.8666403 ],\n       [0.86659074],\n       [0.8366122 ],\n       [0.87500983],\n       [0.8612376 ],\n       [0.8474566 ],\n       [0.8425395 ],\n       [0.80117756],\n       [0.8500865 ],\n       [0.83965933],\n       [0.84810436],\n       [0.849823  ],\n       [0.8472024 ],\n       [0.84725016],\n       [0.82820815],\n       [0.8483226 ],\n       [0.8281346 ],\n       [0.84736425],\n       [0.8180477 ],\n       [0.8476026 ],\n       [0.86149144],\n       [0.8458758 ],\n       [0.91602546],\n       [0.84503824],\n       [0.85028756],\n       [0.8402302 ],\n       [0.8480315 ],\n       [0.84880537],\n       [0.8302519 ],\n       [0.8500335 ],\n       [0.8426823 ],\n       [0.8434823 ],\n       [0.84871674],\n       [0.843239  ],\n       [0.786839  ],\n       [0.8335196 ],\n       [0.8484627 ],\n       [0.8381847 ],\n       [0.8221577 ],\n       [0.814036  ],\n       [0.80857384],\n       [0.8242404 ],\n       [0.8117833 ],\n       [0.82234627],\n       [0.8240134 ],\n       [0.81989753],\n       [0.8222356 ],\n       [0.7998212 ],\n       [0.82156396],\n       [0.8181622 ],\n       [0.82049537],\n       [0.76664984],\n       [0.8225485 ],\n       [0.83708954],\n       [0.81995684],\n       [0.8716872 ],\n       [0.8170574 ],\n       [0.8240729 ],\n       [0.8169854 ],\n       [0.82339   ],\n       [0.8215871 ],\n       [0.8002163 ],\n       [0.75727034],\n       [0.8202094 ],\n       [0.81540453],\n       [0.8214953 ],\n       [0.81782496],\n       [0.7907055 ],\n       [0.7917885 ],\n       [0.821123  ],\n       [0.82254326],\n       [0.6276175 ],\n       [0.61778826],\n       [0.6140404 ],\n       [0.63187957],\n       [0.57992035],\n       [0.6290503 ],\n       [0.6315172 ],\n       [0.6257611 ],\n       [0.629243  ],\n       [0.61753446],\n       [0.6289418 ],\n       [0.62130356],\n       [0.62658024],\n       [0.49627927],\n       [0.6289786 ],\n       [0.6818616 ],\n       [0.62758887],\n       [0.6296892 ],\n       [0.62413675],\n       [0.63165784],\n       [0.6200542 ],\n       [0.62769085],\n       [0.62700474],\n       [0.57818335],\n       [0.49373922],\n       [0.6262418 ],\n       [0.6190232 ],\n       [0.6283182 ],\n       [0.6222474 ],\n       [0.582276  ],\n       [0.5274566 ],\n       [0.623299  ],\n       [0.62878823],\n       [0.39260706],\n       [0.3888798 ],\n       [0.39062253],\n       [0.39434528],\n       [0.39270782],\n       [0.39294353],\n       [0.39414957],\n       [0.39151612],\n       [0.3903354 ],\n       [0.39018574],\n       [0.3929459 ],\n       [0.39068198],\n       [0.39285433],\n       [0.37920752],\n       [0.39257464],\n       [0.45727268],\n       [0.39191374],\n       [0.40177912],\n       [0.3910044 ],\n       [0.39486712],\n       [0.39033908],\n       [0.3932952 ],\n       [0.39395723],\n       [0.38318124],\n       [0.3897032 ],\n       [0.39086413],\n       [0.3903591 ],\n       [0.39305145],\n       [0.3902799 ],\n       [0.38582867],\n       [0.3822734 ],\n       [0.39218292],\n       [0.39188433],\n       [0.3956069 ],\n       [0.39268836],\n       [0.3930506 ],\n       [0.3975406 ],\n       [0.39725307],\n       [0.39604393],\n       [0.39751258],\n       [0.39516184],\n       [0.3908976 ],\n       [0.39218074],\n       [0.39599082],\n       [0.39544493],\n       [0.39551815],\n       [0.38410395],\n       [0.3957954 ],\n       [0.42041382],\n       [0.39513293],\n       [0.52295417],\n       [0.3950588 ],\n       [0.39881957],\n       [0.39316732],\n       [0.39579767],\n       [0.39479944],\n       [0.3853532 ],\n       [0.3952662 ],\n       [0.38889715],\n       [0.3954954 ],\n       [0.39618343],\n       [0.39393166],\n       [0.38988397],\n       [0.3859557 ],\n       [0.39557856],\n       [0.39371583]], dtype=float32)"
     ]
    }
   ],
   "source": [
    "model.predict(X)"
   ]
  },
  {
   "cell_type": "code",
   "execution_count": 0,
   "metadata": {
    "application/vnd.databricks.v1+cell": {
     "cellMetadata": {
      "byteLimit": 2048000,
      "rowLimit": 10000
     },
     "inputWidgets": {},
     "nuid": "3e0c072a-34cb-48dc-aa3f-6744e1e1fa79",
     "showTitle": false,
     "title": ""
    }
   },
   "outputs": [
    {
     "output_type": "stream",
     "name": "stdout",
     "output_type": "stream",
     "text": [
      "\r 1/25 [>.............................] - ETA: 0s\b\b\b\b\b\b\b\b\b\b\b\b\b\b\b\b\b\b\b\b\b\b\b\b\b\b\b\b\b\b\b\b\b\b\b\b\b\b\b\b\b\b\b\b\b\b\b\b\r25/25 [==============================] - 0s 807us/step\nConfusion Matrix:\n[[187   7]\n [ 16 564]]\n"
     ]
    }
   ],
   "source": [
    "from sklearn.metrics import confusion_matrix\n",
    "\n",
    "# Get the predicted binary values\n",
    "y_pred = model.predict(X)\n",
    "y_pred = np.where (y_pred<0.51,0,1)\n",
    "\n",
    "# Create the confusion matrix\n",
    "cm = confusion_matrix(y, y_pred)\n",
    "\n",
    "print(\"Confusion Matrix:\")\n",
    "print(cm)"
   ]
  },
  {
   "cell_type": "code",
   "execution_count": 0,
   "metadata": {
    "application/vnd.databricks.v1+cell": {
     "cellMetadata": {
      "byteLimit": 2048000,
      "rowLimit": 10000
     },
     "inputWidgets": {},
     "nuid": "5391769c-96ba-462a-8935-bc1ae80c76ce",
     "showTitle": false,
     "title": ""
    }
   },
   "outputs": [
    {
     "output_type": "stream",
     "name": "stdout",
     "output_type": "stream",
     "text": [
      "\r 1/25 [>.............................] - ETA: 0s\b\b\b\b\b\b\b\b\b\b\b\b\b\b\b\b\b\b\b\b\b\b\b\b\b\b\b\b\b\b\b\b\b\b\b\b\b\b\b\b\b\b\b\b\b\b\b\b\r25/25 [==============================] - 0s 819us/step\nOut[98]: array([[0.5031766 ],\n       [0.49502897],\n       [0.4982861 ],\n       [0.50763273],\n       [0.4908515 ],\n       [0.5049343 ],\n       [0.50726587],\n       [0.50249135],\n       [0.503879  ],\n       [0.50539213],\n       [0.50452846],\n       [0.503497  ],\n       [0.50430566],\n       [0.49442008],\n       [0.5075494 ],\n       [0.5303731 ],\n       [0.62812686],\n       [0.50074816],\n       [0.5092928 ],\n       [0.501282  ],\n       [0.5055588 ],\n       [0.5058777 ],\n       [0.48775855],\n       [0.50332266],\n       [0.5042131 ],\n       [0.5066359 ],\n       [0.5034939 ],\n       [0.5015835 ],\n       [0.50816876],\n       [0.50209635],\n       [0.46999365],\n       [0.49608386],\n       [0.51127774],\n       [0.50630987],\n       [0.5035736 ],\n       [0.51488984],\n       [0.5140714 ],\n       [0.5117229 ],\n       [0.51449347],\n       [0.50934964],\n       [0.5108687 ],\n       [0.51250184],\n       [0.511388  ],\n       [0.5103522 ],\n       [0.5118373 ],\n       [0.50224054],\n       [0.5147789 ],\n       [0.5393824 ],\n       [0.4682899 ],\n       [0.51278263],\n       [0.5163956 ],\n       [0.5086028 ],\n       [0.50260603],\n       [0.50782436],\n       [0.48127213],\n       [0.5103203 ],\n       [0.51208955],\n       [0.5135792 ],\n       [0.51121247],\n       [0.50881845],\n       [0.5146319 ],\n       [0.5066506 ],\n       [0.49678746],\n       [0.5112636 ],\n       [0.50343025],\n       [0.50271416],\n       [0.49662417],\n       [0.50716466],\n       [0.5076244 ],\n       [0.5052762 ],\n       [0.5078078 ],\n       [0.5040668 ],\n       [0.50449735],\n       [0.5057284 ],\n       [0.5042684 ],\n       [0.50390625],\n       [0.50631523],\n       [0.49742973],\n       [0.50784016],\n       [0.53103244],\n       [0.5647934 ],\n       [0.5067846 ],\n       [0.5096419 ],\n       [0.50162673],\n       [0.50076765],\n       [0.5034958 ],\n       [0.47447625],\n       [0.5034869 ],\n       [0.50528294],\n       [0.50683975],\n       [0.5065164 ],\n       [0.5024124 ],\n       [0.5081458 ],\n       [0.5018015 ],\n       [0.50425506],\n       [0.49676186],\n       [0.5184745 ],\n       [0.5137899 ],\n       [0.51228756],\n       [0.5221982 ],\n       [0.5215525 ],\n       [0.51808494],\n       [0.5217829 ],\n       [0.51835406],\n       [0.51899713],\n       [0.5197242 ],\n       [0.5179353 ],\n       [0.51627785],\n       [0.51913613],\n       [0.5102088 ],\n       [0.5220586 ],\n       [0.5444793 ],\n       [0.6562253 ],\n       [0.52077794],\n       [0.5235969 ],\n       [0.5162545 ],\n       [0.51821315],\n       [0.5163651 ],\n       [0.48269975],\n       [0.51777387],\n       [0.51954216],\n       [0.5210473 ],\n       [0.5166266 ],\n       [0.51689017],\n       [0.5224962 ],\n       [0.5197286 ],\n       [0.51663744],\n       [0.50303835],\n       [0.48291758],\n       [0.48160905],\n       [0.4747413 ],\n       [0.48710856],\n       [0.48594972],\n       [0.48430583],\n       [0.48666394],\n       [0.47982112],\n       [0.48175964],\n       [0.48457813],\n       [0.48379973],\n       [0.4819123 ],\n       [0.48129973],\n       [0.47042578],\n       [0.4866417 ],\n       [0.5088174 ],\n       [0.59730834],\n       [0.48549563],\n       [0.48851576],\n       [0.4814471 ],\n       [0.4849834 ],\n       [0.48305592],\n       [0.46737406],\n       [0.48287985],\n       [0.4841041 ],\n       [0.48574495],\n       [0.48425066],\n       [0.4815178 ],\n       [0.4873698 ],\n       [0.48528743],\n       [0.48384535],\n       [0.43465808],\n       [0.4885849 ],\n       [0.48764765],\n       [0.4860696 ],\n       [0.49200237],\n       [0.49212065],\n       [0.48987812],\n       [0.4921703 ],\n       [0.48220617],\n       [0.48931867],\n       [0.48974955],\n       [0.48868805],\n       [0.48794842],\n       [0.48999077],\n       [0.46855333],\n       [0.49246076],\n       [0.5182566 ],\n       [0.50199705],\n       [0.49122354],\n       [0.494225  ],\n       [0.48651108],\n       [0.4900893 ],\n       [0.48991987],\n       [0.4574804 ],\n       [0.48815373],\n       [0.4901993 ],\n       [0.49165198],\n       [0.48992118],\n       [0.48796448],\n       [0.49157384],\n       [0.49117228],\n       [0.48360887],\n       [0.442458  ],\n       [0.80252814],\n       [0.7814232 ],\n       [0.79899126],\n       [0.8046576 ],\n       [0.804361  ],\n       [0.80214465],\n       [0.803551  ],\n       [0.80054724],\n       [0.7943785 ],\n       [0.7995176 ],\n       [0.8025727 ],\n       [0.801066  ],\n       [0.8016539 ],\n       [0.7917601 ],\n       [0.80467135],\n       [0.81796   ],\n       [0.87330526],\n       [0.80382675],\n       [0.8056929 ],\n       [0.80018425],\n       [0.8026573 ],\n       [0.8019454 ],\n       [0.6322783 ],\n       [0.80211073],\n       [0.80303675],\n       [0.8001926 ],\n       [0.8018288 ],\n       [0.8014378 ],\n       [0.8049819 ],\n       [0.8036903 ],\n       [0.79428834],\n       [0.78329104],\n       [0.97034377],\n       [0.9691801 ],\n       [0.9700618 ],\n       [0.9707021 ],\n       [0.9706652 ],\n       [0.9703773 ],\n       [0.97068435],\n       [0.9703032 ],\n       [0.9699777 ],\n       [0.9700834 ],\n       [0.97050923],\n       [0.96756566],\n       [0.96944183],\n       [0.96971995],\n       [0.97070336],\n       [0.9728203 ],\n       [0.9736318 ],\n       [0.9703749 ],\n       [0.9706608 ],\n       [0.9701098 ],\n       [0.97057587],\n       [0.97059494],\n       [0.9667068 ],\n       [0.9687137 ],\n       [0.9705074 ],\n       [0.97016144],\n       [0.9704037 ],\n       [0.9697455 ],\n       [0.9707481 ],\n       [0.9706219 ],\n       [0.96973795],\n       [0.9670031 ],\n       [0.99619704],\n       [0.9960892 ],\n       [0.9959092 ],\n       [0.99622744],\n       [0.99622166],\n       [0.9959859 ],\n       [0.99622333],\n       [0.99615586],\n       [0.99616283],\n       [0.9961725 ],\n       [0.99620116],\n       [0.99584776],\n       [0.9961461 ],\n       [0.996134  ],\n       [0.9962242 ],\n       [0.9964382 ],\n       [0.99573755],\n       [0.9961542 ],\n       [0.996221  ],\n       [0.9961653 ],\n       [0.9961943 ],\n       [0.9961724 ],\n       [0.99505484],\n       [0.99621   ],\n       [0.9961024 ],\n       [0.9961615 ],\n       [0.9961759 ],\n       [0.99617755],\n       [0.996227  ],\n       [0.99621445],\n       [0.9961313 ],\n       [0.99594146],\n       [0.99908656],\n       [0.9990803 ],\n       [0.9989856 ],\n       [0.999094  ],\n       [0.9990203 ],\n       [0.9990681 ],\n       [0.99909484],\n       [0.999081  ],\n       [0.9990659 ],\n       [0.9990859 ],\n       [0.9990887 ],\n       [0.9990406 ],\n       [0.99905497],\n       [0.99907017],\n       [0.999092  ],\n       [0.999146  ],\n       [0.9993787 ],\n       [0.9990741 ],\n       [0.99908495],\n       [0.9990064 ],\n       [0.9990925 ],\n       [0.9990904 ],\n       [0.9988901 ],\n       [0.9990937 ],\n       [0.99908656],\n       [0.9990803 ],\n       [0.9990816 ],\n       [0.9990663 ],\n       [0.9990945 ],\n       [0.99909216],\n       [0.9990662 ],\n       [0.99908835],\n       [0.9997317 ],\n       [0.9997312 ],\n       [0.9997082 ],\n       [0.9997249 ],\n       [0.9996689 ],\n       [0.9997251 ],\n       [0.9997337 ],\n       [0.9997273 ],\n       [0.9997328 ],\n       [0.99972874],\n       [0.9997309 ],\n       [0.99968517],\n       [0.99973017],\n       [0.9997266 ],\n       [0.9997327 ],\n       [0.99974775],\n       [0.9997928 ],\n       [0.9997294 ],\n       [0.99973136],\n       [0.9997075 ],\n       [0.9997318 ],\n       [0.9997249 ],\n       [0.99967813],\n       [0.9997341 ],\n       [0.9997294 ],\n       [0.99973035],\n       [0.99973124],\n       [0.9997285 ],\n       [0.9997341 ],\n       [0.99973035],\n       [0.9997264 ],\n       [0.99972796],\n       [0.9998594 ],\n       [0.9998581 ],\n       [0.9998555 ],\n       [0.9998597 ],\n       [0.99984634],\n       [0.99985355],\n       [0.99986047],\n       [0.99985206],\n       [0.99984795],\n       [0.9998552 ],\n       [0.9998596 ],\n       [0.99984264],\n       [0.99985784],\n       [0.99985754],\n       [0.99986017],\n       [0.9998672 ],\n       [0.9998458 ],\n       [0.99986005],\n       [0.99985945],\n       [0.99984705],\n       [0.9998602 ],\n       [0.9998582 ],\n       [0.9998364 ],\n       [0.99986035],\n       [0.99984765],\n       [0.99985975],\n       [0.99986017],\n       [0.9998538 ],\n       [0.99986064],\n       [0.999859  ],\n       [0.99985284],\n       [0.9998542 ],\n       [0.9998851 ],\n       [0.9998844 ],\n       [0.99988055],\n       [0.9998857 ],\n       [0.99987376],\n       [0.9998817 ],\n       [0.99988604],\n       [0.99988264],\n       [0.9998851 ],\n       [0.99986356],\n       [0.9998855 ],\n       [0.999861  ],\n       [0.9998849 ],\n       [0.9998839 ],\n       [0.9998855 ],\n       [0.99989164],\n       [0.99989074],\n       [0.9998815 ],\n       [0.9998864 ],\n       [0.9998835 ],\n       [0.9998852 ],\n       [0.99988467],\n       [0.9998582 ],\n       [0.9998859 ],\n       [0.99987924],\n       [0.9998858 ],\n       [0.999884  ],\n       [0.9998809 ],\n       [0.99988604],\n       [0.9998846 ],\n       [0.9998807 ],\n       [0.9998818 ],\n       [0.9998791 ],\n       [0.9998686 ],\n       [0.9998726 ],\n       [0.99987954],\n       [0.99987364],\n       [0.9998785 ],\n       [0.9998798 ],\n       [0.9998779 ],\n       [0.9998797 ],\n       [0.99987173],\n       [0.99987936],\n       [0.9998685 ],\n       [0.9998793 ],\n       [0.99987656],\n       [0.9998728 ],\n       [0.99988973],\n       [0.9999072 ],\n       [0.99987227],\n       [0.99988025],\n       [0.99986714],\n       [0.9998794 ],\n       [0.9998784 ],\n       [0.99986446],\n       [0.99987996],\n       [0.99987847],\n       [0.9998797 ],\n       [0.99987876],\n       [0.99987835],\n       [0.9998799 ],\n       [0.9998794 ],\n       [0.9998736 ],\n       [0.9998756 ],\n       [0.9997929 ],\n       [0.9997893 ],\n       [0.9997859 ],\n       [0.9997946 ],\n       [0.9997881 ],\n       [0.9997927 ],\n       [0.9997948 ],\n       [0.9997908 ],\n       [0.99979097],\n       [0.99978316],\n       [0.9997936 ],\n       [0.9997876 ],\n       [0.99979436],\n       [0.9997905 ],\n       [0.99979365],\n       [0.9998228 ],\n       [0.9998415 ],\n       [0.9997922 ],\n       [0.9997946 ],\n       [0.99977416],\n       [0.9997939 ],\n       [0.99979156],\n       [0.99978864],\n       [0.9997853 ],\n       [0.9997926 ],\n       [0.9997944 ],\n       [0.9997921 ],\n       [0.9997932 ],\n       [0.9997951 ],\n       [0.9997941 ],\n       [0.9997892 ],\n       [0.9997902 ],\n       [0.99931633],\n       [0.9993056 ],\n       [0.9993175 ],\n       [0.99931973],\n       [0.99929833],\n       [0.999304  ],\n       [0.9993215 ],\n       [0.99930924],\n       [0.99930936],\n       [0.9992806 ],\n       [0.99931675],\n       [0.9992995 ],\n       [0.999319  ],\n       [0.99930716],\n       [0.99931926],\n       [0.99939555],\n       [0.9992999 ],\n       [0.9993058 ],\n       [0.9992567 ],\n       [0.9992675 ],\n       [0.999317  ],\n       [0.9993209 ],\n       [0.9992631 ],\n       [0.999312  ],\n       [0.9993143 ],\n       [0.99932015],\n       [0.99931216],\n       [0.9993159 ],\n       [0.9993225 ],\n       [0.9993195 ],\n       [0.99929774],\n       [0.9992923 ],\n       [0.9954998 ],\n       [0.9953542 ],\n       [0.995507  ],\n       [0.9955311 ],\n       [0.99524015],\n       [0.99546677],\n       [0.9955366 ],\n       [0.99546784],\n       [0.99545383],\n       [0.9950867 ],\n       [0.99551195],\n       [0.9948962 ],\n       [0.99550545],\n       [0.99539274],\n       [0.9955171 ],\n       [0.9957609 ],\n       [0.9965355 ],\n       [0.99538785],\n       [0.99550194],\n       [0.9954295 ],\n       [0.99552655],\n       [0.995505  ],\n       [0.9946083 ],\n       [0.99550414],\n       [0.9954907 ],\n       [0.99552983],\n       [0.99542123],\n       [0.99543023],\n       [0.9955059 ],\n       [0.9955113 ],\n       [0.9955045 ],\n       [0.9949148 ],\n       [0.9520112 ],\n       [0.9514851 ],\n       [0.95110023],\n       [0.9512092 ],\n       [0.9482549 ],\n       [0.9519833 ],\n       [0.95241076],\n       [0.95147455],\n       [0.9513025 ],\n       [0.9472978 ],\n       [0.95198065],\n       [0.9391196 ],\n       [0.95125574],\n       [0.94993794],\n       [0.9519969 ],\n       [0.95967317],\n       [0.9585377 ],\n       [0.9499048 ],\n       [0.95245427],\n       [0.95119774],\n       [0.9519474 ],\n       [0.9515979 ],\n       [0.94883084],\n       [0.95232916],\n       [0.9515243 ],\n       [0.9522926 ],\n       [0.9500778 ],\n       [0.9508133 ],\n       [0.951675  ],\n       [0.9521931 ],\n       [0.9521126 ],\n       [0.94656175],\n       [0.87492007],\n       [0.8717569 ],\n       [0.86907166],\n       [0.8753435 ],\n       [0.84860146],\n       [0.8740916 ],\n       [0.8762224 ],\n       [0.8722538 ],\n       [0.8726149 ],\n       [0.8578137 ],\n       [0.8746903 ],\n       [0.8463622 ],\n       [0.8724175 ],\n       [0.86868984],\n       [0.8632546 ],\n       [0.8861665 ],\n       [0.8724157 ],\n       [0.86823636],\n       [0.87059975],\n       [0.8765955 ],\n       [0.86695415],\n       [0.875962  ],\n       [0.8609176 ],\n       [0.8598421 ],\n       [0.8763348 ],\n       [0.8735549 ],\n       [0.8759799 ],\n       [0.87010765],\n       [0.8666403 ],\n       [0.86659074],\n       [0.8366122 ],\n       [0.87500983],\n       [0.8612376 ],\n       [0.8474566 ],\n       [0.8425395 ],\n       [0.80117756],\n       [0.8500865 ],\n       [0.83965933],\n       [0.84810436],\n       [0.849823  ],\n       [0.8472024 ],\n       [0.84725016],\n       [0.82820815],\n       [0.8483226 ],\n       [0.8281346 ],\n       [0.84736425],\n       [0.8180477 ],\n       [0.8476026 ],\n       [0.86149144],\n       [0.8458758 ],\n       [0.91602546],\n       [0.84503824],\n       [0.85028756],\n       [0.8402302 ],\n       [0.8480315 ],\n       [0.84880537],\n       [0.8302519 ],\n       [0.8500335 ],\n       [0.8426823 ],\n       [0.8434823 ],\n       [0.84871674],\n       [0.843239  ],\n       [0.786839  ],\n       [0.8335196 ],\n       [0.8484627 ],\n       [0.8381847 ],\n       [0.8221577 ],\n       [0.814036  ],\n       [0.80857384],\n       [0.8242404 ],\n       [0.8117833 ],\n       [0.82234627],\n       [0.8240134 ],\n       [0.81989753],\n       [0.8222356 ],\n       [0.7998212 ],\n       [0.82156396],\n       [0.8181622 ],\n       [0.82049537],\n       [0.76664984],\n       [0.8225485 ],\n       [0.83708954],\n       [0.81995684],\n       [0.8716872 ],\n       [0.8170574 ],\n       [0.8240729 ],\n       [0.8169854 ],\n       [0.82339   ],\n       [0.8215871 ],\n       [0.8002163 ],\n       [0.75727034],\n       [0.8202094 ],\n       [0.81540453],\n       [0.8214953 ],\n       [0.81782496],\n       [0.7907055 ],\n       [0.7917885 ],\n       [0.821123  ],\n       [0.82254326],\n       [0.6276175 ],\n       [0.61778826],\n       [0.6140404 ],\n       [0.63187957],\n       [0.57992035],\n       [0.6290503 ],\n       [0.6315172 ],\n       [0.6257611 ],\n       [0.629243  ],\n       [0.61753446],\n       [0.6289418 ],\n       [0.62130356],\n       [0.62658024],\n       [0.49627927],\n       [0.6289786 ],\n       [0.6818616 ],\n       [0.62758887],\n       [0.6296892 ],\n       [0.62413675],\n       [0.63165784],\n       [0.6200542 ],\n       [0.62769085],\n       [0.62700474],\n       [0.57818335],\n       [0.49373922],\n       [0.6262418 ],\n       [0.6190232 ],\n       [0.6283182 ],\n       [0.6222474 ],\n       [0.582276  ],\n       [0.5274566 ],\n       [0.623299  ],\n       [0.62878823],\n       [0.39260706],\n       [0.3888798 ],\n       [0.39062253],\n       [0.39434528],\n       [0.39270782],\n       [0.39294353],\n       [0.39414957],\n       [0.39151612],\n       [0.3903354 ],\n       [0.39018574],\n       [0.3929459 ],\n       [0.39068198],\n       [0.39285433],\n       [0.37920752],\n       [0.39257464],\n       [0.45727268],\n       [0.39191374],\n       [0.40177912],\n       [0.3910044 ],\n       [0.39486712],\n       [0.39033908],\n       [0.3932952 ],\n       [0.39395723],\n       [0.38318124],\n       [0.3897032 ],\n       [0.39086413],\n       [0.3903591 ],\n       [0.39305145],\n       [0.3902799 ],\n       [0.38582867],\n       [0.3822734 ],\n       [0.39218292],\n       [0.39188433],\n       [0.3956069 ],\n       [0.39268836],\n       [0.3930506 ],\n       [0.3975406 ],\n       [0.39725307],\n       [0.39604393],\n       [0.39751258],\n       [0.39516184],\n       [0.3908976 ],\n       [0.39218074],\n       [0.39599082],\n       [0.39544493],\n       [0.39551815],\n       [0.38410395],\n       [0.3957954 ],\n       [0.42041382],\n       [0.39513293],\n       [0.52295417],\n       [0.3950588 ],\n       [0.39881957],\n       [0.39316732],\n       [0.39579767],\n       [0.39479944],\n       [0.3853532 ],\n       [0.3952662 ],\n       [0.38889715],\n       [0.3954954 ],\n       [0.39618343],\n       [0.39393166],\n       [0.38988397],\n       [0.3859557 ],\n       [0.39557856],\n       [0.39371583]], dtype=float32)"
     ]
    }
   ],
   "source": [
    "model.predict(X)"
   ]
  },
  {
   "cell_type": "code",
   "execution_count": 0,
   "metadata": {
    "application/vnd.databricks.v1+cell": {
     "cellMetadata": {
      "byteLimit": 2048000,
      "rowLimit": 10000
     },
     "inputWidgets": {},
     "nuid": "ca3d6e1c-1791-481e-9302-f7cd5d7d5a6b",
     "showTitle": false,
     "title": ""
    }
   },
   "outputs": [],
   "source": [
    "rec=pd.DataFrame({'Actual': y, 'Pred': y_pred.flatten()})"
   ]
  },
  {
   "cell_type": "code",
   "execution_count": 0,
   "metadata": {
    "application/vnd.databricks.v1+cell": {
     "cellMetadata": {
      "byteLimit": 2048000,
      "rowLimit": 10000
     },
     "inputWidgets": {},
     "nuid": "1790d99a-2f19-4255-b5f5-49288110f056",
     "showTitle": false,
     "title": ""
    }
   },
   "outputs": [
    {
     "output_type": "display_data",
     "data": {
      "text/html": [
       "<div>\n",
       "<style scoped>\n",
       "    .dataframe tbody tr th:only-of-type {\n",
       "        vertical-align: middle;\n",
       "    }\n",
       "\n",
       "    .dataframe tbody tr th {\n",
       "        vertical-align: top;\n",
       "    }\n",
       "\n",
       "    .dataframe thead th {\n",
       "        text-align: right;\n",
       "    }\n",
       "</style>\n",
       "<table border=\"1\" class=\"dataframe\">\n",
       "  <thead>\n",
       "    <tr style=\"text-align: right;\">\n",
       "      <th></th>\n",
       "      <th>Actual</th>\n",
       "      <th>Pred</th>\n",
       "    </tr>\n",
       "  </thead>\n",
       "  <tbody>\n",
       "    <tr>\n",
       "      <th>0</th>\n",
       "      <td>0</td>\n",
       "      <td>0</td>\n",
       "    </tr>\n",
       "    <tr>\n",
       "      <th>1</th>\n",
       "      <td>0</td>\n",
       "      <td>0</td>\n",
       "    </tr>\n",
       "    <tr>\n",
       "      <th>2</th>\n",
       "      <td>0</td>\n",
       "      <td>0</td>\n",
       "    </tr>\n",
       "    <tr>\n",
       "      <th>3</th>\n",
       "      <td>0</td>\n",
       "      <td>0</td>\n",
       "    </tr>\n",
       "    <tr>\n",
       "      <th>4</th>\n",
       "      <td>0</td>\n",
       "      <td>0</td>\n",
       "    </tr>\n",
       "    <tr>\n",
       "      <th>...</th>\n",
       "      <td>...</td>\n",
       "      <td>...</td>\n",
       "    </tr>\n",
       "    <tr>\n",
       "      <th>769</th>\n",
       "      <td>0</td>\n",
       "      <td>0</td>\n",
       "    </tr>\n",
       "    <tr>\n",
       "      <th>770</th>\n",
       "      <td>0</td>\n",
       "      <td>0</td>\n",
       "    </tr>\n",
       "    <tr>\n",
       "      <th>771</th>\n",
       "      <td>0</td>\n",
       "      <td>0</td>\n",
       "    </tr>\n",
       "    <tr>\n",
       "      <th>772</th>\n",
       "      <td>0</td>\n",
       "      <td>0</td>\n",
       "    </tr>\n",
       "    <tr>\n",
       "      <th>773</th>\n",
       "      <td>0</td>\n",
       "      <td>0</td>\n",
       "    </tr>\n",
       "  </tbody>\n",
       "</table>\n",
       "<p>774 rows × 2 columns</p>\n",
       "</div>"
      ]
     },
     "metadata": {
      "application/vnd.databricks.v1+output": {
       "addedWidgets": {},
       "arguments": {},
       "data": "<div>\n<style scoped>\n    .dataframe tbody tr th:only-of-type {\n        vertical-align: middle;\n    }\n\n    .dataframe tbody tr th {\n        vertical-align: top;\n    }\n\n    .dataframe thead th {\n        text-align: right;\n    }\n</style>\n<table border=\"1\" class=\"dataframe\">\n  <thead>\n    <tr style=\"text-align: right;\">\n      <th></th>\n      <th>Actual</th>\n      <th>Pred</th>\n    </tr>\n  </thead>\n  <tbody>\n    <tr>\n      <th>0</th>\n      <td>0</td>\n      <td>0</td>\n    </tr>\n    <tr>\n      <th>1</th>\n      <td>0</td>\n      <td>0</td>\n    </tr>\n    <tr>\n      <th>2</th>\n      <td>0</td>\n      <td>0</td>\n    </tr>\n    <tr>\n      <th>3</th>\n      <td>0</td>\n      <td>0</td>\n    </tr>\n    <tr>\n      <th>4</th>\n      <td>0</td>\n      <td>0</td>\n    </tr>\n    <tr>\n      <th>...</th>\n      <td>...</td>\n      <td>...</td>\n    </tr>\n    <tr>\n      <th>769</th>\n      <td>0</td>\n      <td>0</td>\n    </tr>\n    <tr>\n      <th>770</th>\n      <td>0</td>\n      <td>0</td>\n    </tr>\n    <tr>\n      <th>771</th>\n      <td>0</td>\n      <td>0</td>\n    </tr>\n    <tr>\n      <th>772</th>\n      <td>0</td>\n      <td>0</td>\n    </tr>\n    <tr>\n      <th>773</th>\n      <td>0</td>\n      <td>0</td>\n    </tr>\n  </tbody>\n</table>\n<p>774 rows × 2 columns</p>\n</div>",
       "datasetInfos": [],
       "metadata": {},
       "removedWidgets": [],
       "textData": null,
       "type": "htmlSandbox"
      }
     },
     "output_type": "display_data"
    }
   ],
   "source": [
    "rec"
   ]
  },
  {
   "cell_type": "code",
   "execution_count": 0,
   "metadata": {
    "application/vnd.databricks.v1+cell": {
     "cellMetadata": {
      "byteLimit": 2048000,
      "rowLimit": 10000
     },
     "inputWidgets": {},
     "nuid": "b53c5e55-d96b-4e00-833a-d01d78fc7f01",
     "showTitle": false,
     "title": ""
    }
   },
   "outputs": [],
   "source": [
    "recco = merged_df[merged_df['recommendation']!='']"
   ]
  },
  {
   "cell_type": "code",
   "execution_count": 0,
   "metadata": {
    "application/vnd.databricks.v1+cell": {
     "cellMetadata": {
      "byteLimit": 2048000,
      "rowLimit": 10000
     },
     "inputWidgets": {},
     "nuid": "ba6a94de-33f6-4b91-b9d9-e956ad2927ba",
     "showTitle": false,
     "title": ""
    }
   },
   "outputs": [
    {
     "output_type": "stream",
     "name": "stdout",
     "output_type": "stream",
     "text": [
      "Out[109]: array(['domxem-C7FCB5', 'domxem3-3494546ED134', 'domxem3-349454717054',\n       'domxem3-84CCA8ACA770', 'domxem3-ECFABCC7EED2',\n       'domxem3-FCF5C49559E1', 'domxem3-FCF5C49641E6',\n       'domxem3-C82B96116354', 'domxem3-ECFABCC7EE50',\n       'domxem3-485519C9AD0E', 'domxem3-ECFABCC7EF31',\n       'domxem3-68C63AFADDBF', 'domxem3-68C63AFADE3A',\n       'domxem3-68C63AFB1F30', 'domxem3-C8C9A370578A',\n       'domxem3-ECFABCC7EE1B', 'domxem3-ECFABCC7F05A',\n       'domxem3-ECFABCC7F071', 'domxem3-ECFABCC7F0D1',\n       'domxem3-ECFABCC7F100', 'domxem3-ECFABCC7F15D'], dtype=object)"
     ]
    }
   ],
   "source": [
    "recco['deviceid'].unique()"
   ]
  },
  {
   "cell_type": "code",
   "execution_count": 0,
   "metadata": {
    "application/vnd.databricks.v1+cell": {
     "cellMetadata": {
      "byteLimit": 2048000,
      "rowLimit": 10000
     },
     "inputWidgets": {},
     "nuid": "6ad19675-5ed7-4ef4-9124-02c966da1643",
     "showTitle": false,
     "title": ""
    }
   },
   "outputs": [
    {
     "output_type": "display_data",
     "data": {
      "text/html": [
       "<div>\n",
       "<style scoped>\n",
       "    .dataframe tbody tr th:only-of-type {\n",
       "        vertical-align: middle;\n",
       "    }\n",
       "\n",
       "    .dataframe tbody tr th {\n",
       "        vertical-align: top;\n",
       "    }\n",
       "\n",
       "    .dataframe thead th {\n",
       "        text-align: right;\n",
       "    }\n",
       "</style>\n",
       "<table border=\"1\" class=\"dataframe\">\n",
       "  <thead>\n",
       "    <tr style=\"text-align: right;\">\n",
       "      <th></th>\n",
       "      <th>deviceid</th>\n",
       "      <th>Time</th>\n",
       "      <th>value</th>\n",
       "      <th>device_type</th>\n",
       "      <th>home_id</th>\n",
       "      <th>ISP</th>\n",
       "      <th>prediction</th>\n",
       "      <th>recommendation</th>\n",
       "    </tr>\n",
       "  </thead>\n",
       "  <tbody>\n",
       "    <tr>\n",
       "      <th>22</th>\n",
       "      <td>domxem3-ECFABCC7EED2</td>\n",
       "      <td>2023-05-08 00:00:00</td>\n",
       "      <td>220.684859</td>\n",
       "      <td>2.0</td>\n",
       "      <td>24.0</td>\n",
       "      <td>0.155102</td>\n",
       "      <td>0.487759</td>\n",
       "      <td>Please avoid using electricity during this period</td>\n",
       "    </tr>\n",
       "    <tr>\n",
       "      <th>54</th>\n",
       "      <td>domxem3-ECFABCC7EED2</td>\n",
       "      <td>2023-05-08 01:00:00</td>\n",
       "      <td>362.680163</td>\n",
       "      <td>2.0</td>\n",
       "      <td>24.0</td>\n",
       "      <td>0.156559</td>\n",
       "      <td>0.481272</td>\n",
       "      <td>Please avoid using electricity during this period</td>\n",
       "    </tr>\n",
       "    <tr>\n",
       "      <th>86</th>\n",
       "      <td>domxem3-ECFABCC7EED2</td>\n",
       "      <td>2023-05-08 02:00:00</td>\n",
       "      <td>363.376578</td>\n",
       "      <td>2.0</td>\n",
       "      <td>24.0</td>\n",
       "      <td>0.155172</td>\n",
       "      <td>0.474476</td>\n",
       "      <td>Please avoid using electricity during this period</td>\n",
       "    </tr>\n",
       "    <tr>\n",
       "      <th>118</th>\n",
       "      <td>domxem3-ECFABCC7EED2</td>\n",
       "      <td>2023-05-08 03:00:00</td>\n",
       "      <td>424.976970</td>\n",
       "      <td>2.0</td>\n",
       "      <td>24.0</td>\n",
       "      <td>0.158046</td>\n",
       "      <td>0.482700</td>\n",
       "      <td>Please avoid using electricity during this period</td>\n",
       "    </tr>\n",
       "    <tr>\n",
       "      <th>150</th>\n",
       "      <td>domxem3-ECFABCC7EED2</td>\n",
       "      <td>2023-05-08 04:00:00</td>\n",
       "      <td>216.854357</td>\n",
       "      <td>2.0</td>\n",
       "      <td>24.0</td>\n",
       "      <td>0.150838</td>\n",
       "      <td>0.467374</td>\n",
       "      <td>Please avoid using electricity during this period</td>\n",
       "    </tr>\n",
       "    <tr>\n",
       "      <th>182</th>\n",
       "      <td>domxem3-ECFABCC7EED2</td>\n",
       "      <td>2023-05-08 05:00:00</td>\n",
       "      <td>383.671193</td>\n",
       "      <td>2.0</td>\n",
       "      <td>24.0</td>\n",
       "      <td>0.152010</td>\n",
       "      <td>0.457480</td>\n",
       "      <td>Please avoid using electricity during this period</td>\n",
       "    </tr>\n",
       "    <tr>\n",
       "      <th>731</th>\n",
       "      <td>domxem3-ECFABCC7EED2</td>\n",
       "      <td>2023-05-08 22:00:00</td>\n",
       "      <td>868.224563</td>\n",
       "      <td>2.0</td>\n",
       "      <td>24.0</td>\n",
       "      <td>0.128682</td>\n",
       "      <td>0.383181</td>\n",
       "      <td>Please avoid using electricity during this period</td>\n",
       "    </tr>\n",
       "    <tr>\n",
       "      <th>764</th>\n",
       "      <td>domxem3-ECFABCC7EED2</td>\n",
       "      <td>2023-05-08 23:00:00</td>\n",
       "      <td>797.205671</td>\n",
       "      <td>2.0</td>\n",
       "      <td>24.0</td>\n",
       "      <td>0.130435</td>\n",
       "      <td>0.385353</td>\n",
       "      <td>Please avoid using electricity during this period</td>\n",
       "    </tr>\n",
       "  </tbody>\n",
       "</table>\n",
       "</div>"
      ]
     },
     "metadata": {
      "application/vnd.databricks.v1+output": {
       "addedWidgets": {},
       "arguments": {},
       "data": "<div>\n<style scoped>\n    .dataframe tbody tr th:only-of-type {\n        vertical-align: middle;\n    }\n\n    .dataframe tbody tr th {\n        vertical-align: top;\n    }\n\n    .dataframe thead th {\n        text-align: right;\n    }\n</style>\n<table border=\"1\" class=\"dataframe\">\n  <thead>\n    <tr style=\"text-align: right;\">\n      <th></th>\n      <th>deviceid</th>\n      <th>Time</th>\n      <th>value</th>\n      <th>device_type</th>\n      <th>home_id</th>\n      <th>ISP</th>\n      <th>prediction</th>\n      <th>recommendation</th>\n    </tr>\n  </thead>\n  <tbody>\n    <tr>\n      <th>22</th>\n      <td>domxem3-ECFABCC7EED2</td>\n      <td>2023-05-08 00:00:00</td>\n      <td>220.684859</td>\n      <td>2.0</td>\n      <td>24.0</td>\n      <td>0.155102</td>\n      <td>0.487759</td>\n      <td>Please avoid using electricity during this period</td>\n    </tr>\n    <tr>\n      <th>54</th>\n      <td>domxem3-ECFABCC7EED2</td>\n      <td>2023-05-08 01:00:00</td>\n      <td>362.680163</td>\n      <td>2.0</td>\n      <td>24.0</td>\n      <td>0.156559</td>\n      <td>0.481272</td>\n      <td>Please avoid using electricity during this period</td>\n    </tr>\n    <tr>\n      <th>86</th>\n      <td>domxem3-ECFABCC7EED2</td>\n      <td>2023-05-08 02:00:00</td>\n      <td>363.376578</td>\n      <td>2.0</td>\n      <td>24.0</td>\n      <td>0.155172</td>\n      <td>0.474476</td>\n      <td>Please avoid using electricity during this period</td>\n    </tr>\n    <tr>\n      <th>118</th>\n      <td>domxem3-ECFABCC7EED2</td>\n      <td>2023-05-08 03:00:00</td>\n      <td>424.976970</td>\n      <td>2.0</td>\n      <td>24.0</td>\n      <td>0.158046</td>\n      <td>0.482700</td>\n      <td>Please avoid using electricity during this period</td>\n    </tr>\n    <tr>\n      <th>150</th>\n      <td>domxem3-ECFABCC7EED2</td>\n      <td>2023-05-08 04:00:00</td>\n      <td>216.854357</td>\n      <td>2.0</td>\n      <td>24.0</td>\n      <td>0.150838</td>\n      <td>0.467374</td>\n      <td>Please avoid using electricity during this period</td>\n    </tr>\n    <tr>\n      <th>182</th>\n      <td>domxem3-ECFABCC7EED2</td>\n      <td>2023-05-08 05:00:00</td>\n      <td>383.671193</td>\n      <td>2.0</td>\n      <td>24.0</td>\n      <td>0.152010</td>\n      <td>0.457480</td>\n      <td>Please avoid using electricity during this period</td>\n    </tr>\n    <tr>\n      <th>731</th>\n      <td>domxem3-ECFABCC7EED2</td>\n      <td>2023-05-08 22:00:00</td>\n      <td>868.224563</td>\n      <td>2.0</td>\n      <td>24.0</td>\n      <td>0.128682</td>\n      <td>0.383181</td>\n      <td>Please avoid using electricity during this period</td>\n    </tr>\n    <tr>\n      <th>764</th>\n      <td>domxem3-ECFABCC7EED2</td>\n      <td>2023-05-08 23:00:00</td>\n      <td>797.205671</td>\n      <td>2.0</td>\n      <td>24.0</td>\n      <td>0.130435</td>\n      <td>0.385353</td>\n      <td>Please avoid using electricity during this period</td>\n    </tr>\n  </tbody>\n</table>\n</div>",
       "datasetInfos": [],
       "metadata": {},
       "removedWidgets": [],
       "textData": null,
       "type": "htmlSandbox"
      }
     },
     "output_type": "display_data"
    }
   ],
   "source": [
    "recco[recco['deviceid']==\"domxem3-ECFABCC7EED2\"]"
   ]
  },
  {
   "cell_type": "code",
   "execution_count": 0,
   "metadata": {
    "application/vnd.databricks.v1+cell": {
     "cellMetadata": {
      "byteLimit": 2048000,
      "rowLimit": 10000
     },
     "inputWidgets": {},
     "nuid": "8770cf3c-c02b-42b4-bfd1-c0b161298d34",
     "showTitle": false,
     "title": ""
    }
   },
   "outputs": [],
   "source": [
    "# Select only necessary columns\n",
    "recco_df = pd.DataFrame(recco, columns=['deviceid', 'Time', 'recommendation'])\n"
   ]
  },
  {
   "cell_type": "code",
   "execution_count": 0,
   "metadata": {
    "application/vnd.databricks.v1+cell": {
     "cellMetadata": {
      "byteLimit": 2048000,
      "rowLimit": 10000
     },
     "inputWidgets": {},
     "nuid": "ef2e0c0e-99f2-425b-91ba-34cdb2193c77",
     "showTitle": false,
     "title": ""
    }
   },
   "outputs": [
    {
     "output_type": "display_data",
     "data": {
      "text/html": [
       "<div>\n",
       "<style scoped>\n",
       "    .dataframe tbody tr th:only-of-type {\n",
       "        vertical-align: middle;\n",
       "    }\n",
       "\n",
       "    .dataframe tbody tr th {\n",
       "        vertical-align: top;\n",
       "    }\n",
       "\n",
       "    .dataframe thead th {\n",
       "        text-align: right;\n",
       "    }\n",
       "</style>\n",
       "<table border=\"1\" class=\"dataframe\">\n",
       "  <thead>\n",
       "    <tr style=\"text-align: right;\">\n",
       "      <th></th>\n",
       "      <th>deviceid</th>\n",
       "      <th>Time</th>\n",
       "      <th>value</th>\n",
       "      <th>device_type</th>\n",
       "      <th>home_id</th>\n",
       "      <th>ISP</th>\n",
       "      <th>prediction</th>\n",
       "      <th>recommendation</th>\n",
       "    </tr>\n",
       "  </thead>\n",
       "  <tbody>\n",
       "    <tr>\n",
       "      <th>20</th>\n",
       "      <td>domxem3-ECFABCC7EE50</td>\n",
       "      <td>2023-05-08 00:00:00</td>\n",
       "      <td>34.752360</td>\n",
       "      <td>2.0</td>\n",
       "      <td>1.0</td>\n",
       "      <td>0.155102</td>\n",
       "      <td>0.505559</td>\n",
       "      <td></td>\n",
       "    </tr>\n",
       "    <tr>\n",
       "      <th>52</th>\n",
       "      <td>domxem3-ECFABCC7EE50</td>\n",
       "      <td>2023-05-08 01:00:00</td>\n",
       "      <td>139.777226</td>\n",
       "      <td>2.0</td>\n",
       "      <td>1.0</td>\n",
       "      <td>0.156559</td>\n",
       "      <td>0.502606</td>\n",
       "      <td>Please avoid using electricity during this period</td>\n",
       "    </tr>\n",
       "    <tr>\n",
       "      <th>84</th>\n",
       "      <td>domxem3-ECFABCC7EE50</td>\n",
       "      <td>2023-05-08 02:00:00</td>\n",
       "      <td>88.377343</td>\n",
       "      <td>2.0</td>\n",
       "      <td>1.0</td>\n",
       "      <td>0.155172</td>\n",
       "      <td>0.500768</td>\n",
       "      <td></td>\n",
       "    </tr>\n",
       "    <tr>\n",
       "      <th>116</th>\n",
       "      <td>domxem3-ECFABCC7EE50</td>\n",
       "      <td>2023-05-08 03:00:00</td>\n",
       "      <td>52.454352</td>\n",
       "      <td>2.0</td>\n",
       "      <td>1.0</td>\n",
       "      <td>0.158046</td>\n",
       "      <td>0.518213</td>\n",
       "      <td></td>\n",
       "    </tr>\n",
       "    <tr>\n",
       "      <th>148</th>\n",
       "      <td>domxem3-ECFABCC7EE50</td>\n",
       "      <td>2023-05-08 04:00:00</td>\n",
       "      <td>32.504735</td>\n",
       "      <td>2.0</td>\n",
       "      <td>1.0</td>\n",
       "      <td>0.150838</td>\n",
       "      <td>0.484983</td>\n",
       "      <td></td>\n",
       "    </tr>\n",
       "    <tr>\n",
       "      <th>180</th>\n",
       "      <td>domxem3-ECFABCC7EE50</td>\n",
       "      <td>2023-05-08 05:00:00</td>\n",
       "      <td>38.859892</td>\n",
       "      <td>2.0</td>\n",
       "      <td>1.0</td>\n",
       "      <td>0.152010</td>\n",
       "      <td>0.490089</td>\n",
       "      <td></td>\n",
       "    </tr>\n",
       "    <tr>\n",
       "      <th>212</th>\n",
       "      <td>domxem3-ECFABCC7EE50</td>\n",
       "      <td>2023-05-08 06:00:00</td>\n",
       "      <td>46.171387</td>\n",
       "      <td>2.0</td>\n",
       "      <td>1.0</td>\n",
       "      <td>0.226107</td>\n",
       "      <td>0.802657</td>\n",
       "      <td></td>\n",
       "    </tr>\n",
       "    <tr>\n",
       "      <th>244</th>\n",
       "      <td>domxem3-ECFABCC7EE50</td>\n",
       "      <td>2023-05-08 07:00:00</td>\n",
       "      <td>32.068875</td>\n",
       "      <td>2.0</td>\n",
       "      <td>1.0</td>\n",
       "      <td>0.344191</td>\n",
       "      <td>0.970576</td>\n",
       "      <td></td>\n",
       "    </tr>\n",
       "    <tr>\n",
       "      <th>276</th>\n",
       "      <td>domxem3-ECFABCC7EE50</td>\n",
       "      <td>2023-05-08 08:00:00</td>\n",
       "      <td>54.003610</td>\n",
       "      <td>2.0</td>\n",
       "      <td>1.0</td>\n",
       "      <td>0.478092</td>\n",
       "      <td>0.996194</td>\n",
       "      <td></td>\n",
       "    </tr>\n",
       "    <tr>\n",
       "      <th>308</th>\n",
       "      <td>domxem3-ECFABCC7EE50</td>\n",
       "      <td>2023-05-08 09:00:00</td>\n",
       "      <td>28.025449</td>\n",
       "      <td>2.0</td>\n",
       "      <td>1.0</td>\n",
       "      <td>0.571105</td>\n",
       "      <td>0.999093</td>\n",
       "      <td></td>\n",
       "    </tr>\n",
       "    <tr>\n",
       "      <th>340</th>\n",
       "      <td>domxem3-ECFABCC7EE50</td>\n",
       "      <td>2023-05-08 10:00:00</td>\n",
       "      <td>50.569493</td>\n",
       "      <td>2.0</td>\n",
       "      <td>1.0</td>\n",
       "      <td>0.650605</td>\n",
       "      <td>0.999732</td>\n",
       "      <td></td>\n",
       "    </tr>\n",
       "    <tr>\n",
       "      <th>372</th>\n",
       "      <td>domxem3-ECFABCC7EE50</td>\n",
       "      <td>2023-05-08 11:00:00</td>\n",
       "      <td>23.143027</td>\n",
       "      <td>2.0</td>\n",
       "      <td>1.0</td>\n",
       "      <td>0.692942</td>\n",
       "      <td>0.999860</td>\n",
       "      <td></td>\n",
       "    </tr>\n",
       "    <tr>\n",
       "      <th>404</th>\n",
       "      <td>domxem3-ECFABCC7EE50</td>\n",
       "      <td>2023-05-08 12:00:00</td>\n",
       "      <td>57.448926</td>\n",
       "      <td>2.0</td>\n",
       "      <td>1.0</td>\n",
       "      <td>0.706262</td>\n",
       "      <td>0.999885</td>\n",
       "      <td></td>\n",
       "    </tr>\n",
       "    <tr>\n",
       "      <th>436</th>\n",
       "      <td>domxem3-ECFABCC7EE50</td>\n",
       "      <td>2023-05-08 13:00:00</td>\n",
       "      <td>33.968060</td>\n",
       "      <td>2.0</td>\n",
       "      <td>1.0</td>\n",
       "      <td>0.702780</td>\n",
       "      <td>0.999879</td>\n",
       "      <td></td>\n",
       "    </tr>\n",
       "    <tr>\n",
       "      <th>468</th>\n",
       "      <td>domxem3-ECFABCC7EE50</td>\n",
       "      <td>2023-05-08 14:00:00</td>\n",
       "      <td>38.360269</td>\n",
       "      <td>2.0</td>\n",
       "      <td>1.0</td>\n",
       "      <td>0.667665</td>\n",
       "      <td>0.999794</td>\n",
       "      <td></td>\n",
       "    </tr>\n",
       "    <tr>\n",
       "      <th>500</th>\n",
       "      <td>domxem3-ECFABCC7EE50</td>\n",
       "      <td>2023-05-08 15:00:00</td>\n",
       "      <td>47.147659</td>\n",
       "      <td>2.0</td>\n",
       "      <td>1.0</td>\n",
       "      <td>0.589823</td>\n",
       "      <td>0.999317</td>\n",
       "      <td></td>\n",
       "    </tr>\n",
       "    <tr>\n",
       "      <th>532</th>\n",
       "      <td>domxem3-ECFABCC7EE50</td>\n",
       "      <td>2023-05-08 16:00:00</td>\n",
       "      <td>25.571832</td>\n",
       "      <td>2.0</td>\n",
       "      <td>1.0</td>\n",
       "      <td>0.467156</td>\n",
       "      <td>0.995527</td>\n",
       "      <td></td>\n",
       "    </tr>\n",
       "    <tr>\n",
       "      <th>564</th>\n",
       "      <td>domxem3-ECFABCC7EE50</td>\n",
       "      <td>2023-05-08 17:00:00</td>\n",
       "      <td>57.048577</td>\n",
       "      <td>2.0</td>\n",
       "      <td>1.0</td>\n",
       "      <td>0.313161</td>\n",
       "      <td>0.951947</td>\n",
       "      <td></td>\n",
       "    </tr>\n",
       "    <tr>\n",
       "      <th>597</th>\n",
       "      <td>domxem3-ECFABCC7EE50</td>\n",
       "      <td>2023-05-08 18:00:00</td>\n",
       "      <td>22.383286</td>\n",
       "      <td>2.0</td>\n",
       "      <td>1.0</td>\n",
       "      <td>0.253924</td>\n",
       "      <td>0.875962</td>\n",
       "      <td></td>\n",
       "    </tr>\n",
       "    <tr>\n",
       "      <th>630</th>\n",
       "      <td>domxem3-ECFABCC7EE50</td>\n",
       "      <td>2023-05-08 19:00:00</td>\n",
       "      <td>52.127705</td>\n",
       "      <td>2.0</td>\n",
       "      <td>1.0</td>\n",
       "      <td>0.242436</td>\n",
       "      <td>0.848032</td>\n",
       "      <td></td>\n",
       "    </tr>\n",
       "    <tr>\n",
       "      <th>663</th>\n",
       "      <td>domxem3-ECFABCC7EE50</td>\n",
       "      <td>2023-05-08 20:00:00</td>\n",
       "      <td>25.757886</td>\n",
       "      <td>2.0</td>\n",
       "      <td>1.0</td>\n",
       "      <td>0.232703</td>\n",
       "      <td>0.823390</td>\n",
       "      <td></td>\n",
       "    </tr>\n",
       "    <tr>\n",
       "      <th>696</th>\n",
       "      <td>domxem3-ECFABCC7EE50</td>\n",
       "      <td>2023-05-08 21:00:00</td>\n",
       "      <td>57.225342</td>\n",
       "      <td>2.0</td>\n",
       "      <td>1.0</td>\n",
       "      <td>0.181179</td>\n",
       "      <td>0.627691</td>\n",
       "      <td></td>\n",
       "    </tr>\n",
       "    <tr>\n",
       "      <th>729</th>\n",
       "      <td>domxem3-ECFABCC7EE50</td>\n",
       "      <td>2023-05-08 22:00:00</td>\n",
       "      <td>35.832345</td>\n",
       "      <td>2.0</td>\n",
       "      <td>1.0</td>\n",
       "      <td>0.128682</td>\n",
       "      <td>0.393295</td>\n",
       "      <td></td>\n",
       "    </tr>\n",
       "    <tr>\n",
       "      <th>762</th>\n",
       "      <td>domxem3-ECFABCC7EE50</td>\n",
       "      <td>2023-05-08 23:00:00</td>\n",
       "      <td>48.419651</td>\n",
       "      <td>2.0</td>\n",
       "      <td>1.0</td>\n",
       "      <td>0.130435</td>\n",
       "      <td>0.395798</td>\n",
       "      <td></td>\n",
       "    </tr>\n",
       "  </tbody>\n",
       "</table>\n",
       "</div>"
      ]
     },
     "metadata": {
      "application/vnd.databricks.v1+output": {
       "addedWidgets": {},
       "arguments": {},
       "data": "<div>\n<style scoped>\n    .dataframe tbody tr th:only-of-type {\n        vertical-align: middle;\n    }\n\n    .dataframe tbody tr th {\n        vertical-align: top;\n    }\n\n    .dataframe thead th {\n        text-align: right;\n    }\n</style>\n<table border=\"1\" class=\"dataframe\">\n  <thead>\n    <tr style=\"text-align: right;\">\n      <th></th>\n      <th>deviceid</th>\n      <th>Time</th>\n      <th>value</th>\n      <th>device_type</th>\n      <th>home_id</th>\n      <th>ISP</th>\n      <th>prediction</th>\n      <th>recommendation</th>\n    </tr>\n  </thead>\n  <tbody>\n    <tr>\n      <th>20</th>\n      <td>domxem3-ECFABCC7EE50</td>\n      <td>2023-05-08 00:00:00</td>\n      <td>34.752360</td>\n      <td>2.0</td>\n      <td>1.0</td>\n      <td>0.155102</td>\n      <td>0.505559</td>\n      <td></td>\n    </tr>\n    <tr>\n      <th>52</th>\n      <td>domxem3-ECFABCC7EE50</td>\n      <td>2023-05-08 01:00:00</td>\n      <td>139.777226</td>\n      <td>2.0</td>\n      <td>1.0</td>\n      <td>0.156559</td>\n      <td>0.502606</td>\n      <td>Please avoid using electricity during this period</td>\n    </tr>\n    <tr>\n      <th>84</th>\n      <td>domxem3-ECFABCC7EE50</td>\n      <td>2023-05-08 02:00:00</td>\n      <td>88.377343</td>\n      <td>2.0</td>\n      <td>1.0</td>\n      <td>0.155172</td>\n      <td>0.500768</td>\n      <td></td>\n    </tr>\n    <tr>\n      <th>116</th>\n      <td>domxem3-ECFABCC7EE50</td>\n      <td>2023-05-08 03:00:00</td>\n      <td>52.454352</td>\n      <td>2.0</td>\n      <td>1.0</td>\n      <td>0.158046</td>\n      <td>0.518213</td>\n      <td></td>\n    </tr>\n    <tr>\n      <th>148</th>\n      <td>domxem3-ECFABCC7EE50</td>\n      <td>2023-05-08 04:00:00</td>\n      <td>32.504735</td>\n      <td>2.0</td>\n      <td>1.0</td>\n      <td>0.150838</td>\n      <td>0.484983</td>\n      <td></td>\n    </tr>\n    <tr>\n      <th>180</th>\n      <td>domxem3-ECFABCC7EE50</td>\n      <td>2023-05-08 05:00:00</td>\n      <td>38.859892</td>\n      <td>2.0</td>\n      <td>1.0</td>\n      <td>0.152010</td>\n      <td>0.490089</td>\n      <td></td>\n    </tr>\n    <tr>\n      <th>212</th>\n      <td>domxem3-ECFABCC7EE50</td>\n      <td>2023-05-08 06:00:00</td>\n      <td>46.171387</td>\n      <td>2.0</td>\n      <td>1.0</td>\n      <td>0.226107</td>\n      <td>0.802657</td>\n      <td></td>\n    </tr>\n    <tr>\n      <th>244</th>\n      <td>domxem3-ECFABCC7EE50</td>\n      <td>2023-05-08 07:00:00</td>\n      <td>32.068875</td>\n      <td>2.0</td>\n      <td>1.0</td>\n      <td>0.344191</td>\n      <td>0.970576</td>\n      <td></td>\n    </tr>\n    <tr>\n      <th>276</th>\n      <td>domxem3-ECFABCC7EE50</td>\n      <td>2023-05-08 08:00:00</td>\n      <td>54.003610</td>\n      <td>2.0</td>\n      <td>1.0</td>\n      <td>0.478092</td>\n      <td>0.996194</td>\n      <td></td>\n    </tr>\n    <tr>\n      <th>308</th>\n      <td>domxem3-ECFABCC7EE50</td>\n      <td>2023-05-08 09:00:00</td>\n      <td>28.025449</td>\n      <td>2.0</td>\n      <td>1.0</td>\n      <td>0.571105</td>\n      <td>0.999093</td>\n      <td></td>\n    </tr>\n    <tr>\n      <th>340</th>\n      <td>domxem3-ECFABCC7EE50</td>\n      <td>2023-05-08 10:00:00</td>\n      <td>50.569493</td>\n      <td>2.0</td>\n      <td>1.0</td>\n      <td>0.650605</td>\n      <td>0.999732</td>\n      <td></td>\n    </tr>\n    <tr>\n      <th>372</th>\n      <td>domxem3-ECFABCC7EE50</td>\n      <td>2023-05-08 11:00:00</td>\n      <td>23.143027</td>\n      <td>2.0</td>\n      <td>1.0</td>\n      <td>0.692942</td>\n      <td>0.999860</td>\n      <td></td>\n    </tr>\n    <tr>\n      <th>404</th>\n      <td>domxem3-ECFABCC7EE50</td>\n      <td>2023-05-08 12:00:00</td>\n      <td>57.448926</td>\n      <td>2.0</td>\n      <td>1.0</td>\n      <td>0.706262</td>\n      <td>0.999885</td>\n      <td></td>\n    </tr>\n    <tr>\n      <th>436</th>\n      <td>domxem3-ECFABCC7EE50</td>\n      <td>2023-05-08 13:00:00</td>\n      <td>33.968060</td>\n      <td>2.0</td>\n      <td>1.0</td>\n      <td>0.702780</td>\n      <td>0.999879</td>\n      <td></td>\n    </tr>\n    <tr>\n      <th>468</th>\n      <td>domxem3-ECFABCC7EE50</td>\n      <td>2023-05-08 14:00:00</td>\n      <td>38.360269</td>\n      <td>2.0</td>\n      <td>1.0</td>\n      <td>0.667665</td>\n      <td>0.999794</td>\n      <td></td>\n    </tr>\n    <tr>\n      <th>500</th>\n      <td>domxem3-ECFABCC7EE50</td>\n      <td>2023-05-08 15:00:00</td>\n      <td>47.147659</td>\n      <td>2.0</td>\n      <td>1.0</td>\n      <td>0.589823</td>\n      <td>0.999317</td>\n      <td></td>\n    </tr>\n    <tr>\n      <th>532</th>\n      <td>domxem3-ECFABCC7EE50</td>\n      <td>2023-05-08 16:00:00</td>\n      <td>25.571832</td>\n      <td>2.0</td>\n      <td>1.0</td>\n      <td>0.467156</td>\n      <td>0.995527</td>\n      <td></td>\n    </tr>\n    <tr>\n      <th>564</th>\n      <td>domxem3-ECFABCC7EE50</td>\n      <td>2023-05-08 17:00:00</td>\n      <td>57.048577</td>\n      <td>2.0</td>\n      <td>1.0</td>\n      <td>0.313161</td>\n      <td>0.951947</td>\n      <td></td>\n    </tr>\n    <tr>\n      <th>597</th>\n      <td>domxem3-ECFABCC7EE50</td>\n      <td>2023-05-08 18:00:00</td>\n      <td>22.383286</td>\n      <td>2.0</td>\n      <td>1.0</td>\n      <td>0.253924</td>\n      <td>0.875962</td>\n      <td></td>\n    </tr>\n    <tr>\n      <th>630</th>\n      <td>domxem3-ECFABCC7EE50</td>\n      <td>2023-05-08 19:00:00</td>\n      <td>52.127705</td>\n      <td>2.0</td>\n      <td>1.0</td>\n      <td>0.242436</td>\n      <td>0.848032</td>\n      <td></td>\n    </tr>\n    <tr>\n      <th>663</th>\n      <td>domxem3-ECFABCC7EE50</td>\n      <td>2023-05-08 20:00:00</td>\n      <td>25.757886</td>\n      <td>2.0</td>\n      <td>1.0</td>\n      <td>0.232703</td>\n      <td>0.823390</td>\n      <td></td>\n    </tr>\n    <tr>\n      <th>696</th>\n      <td>domxem3-ECFABCC7EE50</td>\n      <td>2023-05-08 21:00:00</td>\n      <td>57.225342</td>\n      <td>2.0</td>\n      <td>1.0</td>\n      <td>0.181179</td>\n      <td>0.627691</td>\n      <td></td>\n    </tr>\n    <tr>\n      <th>729</th>\n      <td>domxem3-ECFABCC7EE50</td>\n      <td>2023-05-08 22:00:00</td>\n      <td>35.832345</td>\n      <td>2.0</td>\n      <td>1.0</td>\n      <td>0.128682</td>\n      <td>0.393295</td>\n      <td></td>\n    </tr>\n    <tr>\n      <th>762</th>\n      <td>domxem3-ECFABCC7EE50</td>\n      <td>2023-05-08 23:00:00</td>\n      <td>48.419651</td>\n      <td>2.0</td>\n      <td>1.0</td>\n      <td>0.130435</td>\n      <td>0.395798</td>\n      <td></td>\n    </tr>\n  </tbody>\n</table>\n</div>",
       "datasetInfos": [],
       "metadata": {},
       "removedWidgets": [],
       "textData": null,
       "type": "htmlSandbox"
      }
     },
     "output_type": "display_data"
    }
   ],
   "source": [
    "merged_df[merged_df['deviceid']==\"domxem3-ECFABCC7EE50\"]"
   ]
  },
  {
   "cell_type": "code",
   "execution_count": 0,
   "metadata": {
    "application/vnd.databricks.v1+cell": {
     "cellMetadata": {
      "byteLimit": 2048000,
      "rowLimit": 10000
     },
     "inputWidgets": {},
     "nuid": "9414c8e3-5cbd-4b56-a6f3-b46c952860e0",
     "showTitle": false,
     "title": ""
    }
   },
   "outputs": [
    {
     "output_type": "stream",
     "name": "stdout",
     "output_type": "stream",
     "text": [
      "<class 'pandas.core.frame.DataFrame'>\nInt64Index: 57 entries, 1 to 773\nData columns (total 3 columns):\n #   Column          Non-Null Count  Dtype \n---  ------          --------------  ----- \n 0   deviceid        57 non-null     object\n 1   Time            57 non-null     object\n 2   recommendation  57 non-null     object\ndtypes: object(3)\nmemory usage: 1.8+ KB\n"
     ]
    }
   ],
   "source": [
    "recco_df.info()"
   ]
  },
  {
   "cell_type": "code",
   "execution_count": 0,
   "metadata": {
    "application/vnd.databricks.v1+cell": {
     "cellMetadata": {
      "byteLimit": 2048000,
      "rowLimit": 10000
     },
     "inputWidgets": {},
     "nuid": "5a8f7be0-d4b0-4334-9ffd-718b98a5002b",
     "showTitle": false,
     "title": ""
    }
   },
   "outputs": [],
   "source": [
    "import json"
   ]
  },
  {
   "cell_type": "code",
   "execution_count": 0,
   "metadata": {
    "application/vnd.databricks.v1+cell": {
     "cellMetadata": {
      "byteLimit": 2048000,
      "rowLimit": 10000
     },
     "inputWidgets": {},
     "nuid": "236046d3-d764-490c-9379-6c9642382a81",
     "showTitle": false,
     "title": ""
    }
   },
   "outputs": [],
   "source": [
    "# Group the filtered dataframe by deviceid\n",
    "grouped_df = recco_df.groupby(\"deviceid\")"
   ]
  },
  {
   "cell_type": "code",
   "execution_count": 0,
   "metadata": {
    "application/vnd.databricks.v1+cell": {
     "cellMetadata": {
      "byteLimit": 2048000,
      "rowLimit": 10000
     },
     "inputWidgets": {},
     "nuid": "8afe33d1-86a1-4c52-8679-f5260198d3e4",
     "showTitle": false,
     "title": ""
    }
   },
   "outputs": [
    {
     "output_type": "stream",
     "name": "stdout",
     "output_type": "stream",
     "text": [
      "['2023-05-08 00:00:00', '2023-05-08 01:00:00', '2023-05-08 22:00:00', '2023-05-08 23:00:00']\n['2023-05-08 00:00:00', '2023-05-08 01:00:00', '2023-05-08 02:00:00', '2023-05-08 04:00:00', '2023-05-08 22:00:00', '2023-05-08 23:00:00']\n['2023-05-08 00:00:00']\n['2023-05-08 05:00:00']\n['2023-05-08 22:00:00', '2023-05-08 23:00:00']\n['2023-05-08 22:00:00', '2023-05-08 23:00:00']\n['2023-05-08 22:00:00']\n['2023-05-08 00:00:00', '2023-05-08 01:00:00', '2023-05-08 02:00:00', '2023-05-08 04:00:00', '2023-05-08 05:00:00', '2023-05-08 21:00:00', '2023-05-08 22:00:00', '2023-05-08 23:00:00']\n['2023-05-08 01:00:00']\n['2023-05-08 22:00:00']\n['2023-05-08 22:00:00', '2023-05-08 23:00:00']\n['2023-05-08 01:00:00']\n['2023-05-08 00:00:00', '2023-05-08 01:00:00', '2023-05-08 02:00:00', '2023-05-08 03:00:00', '2023-05-08 04:00:00', '2023-05-08 05:00:00', '2023-05-08 22:00:00', '2023-05-08 23:00:00']\n['2023-05-08 21:00:00', '2023-05-08 22:00:00']\n['2023-05-08 22:00:00', '2023-05-08 23:00:00']\n['2023-05-08 22:00:00']\n['2023-05-08 22:00:00']\n['2023-05-08 22:00:00', '2023-05-08 23:00:00']\n['2023-05-08 22:00:00', '2023-05-08 23:00:00']\n['2023-05-08 00:00:00', '2023-05-08 01:00:00', '2023-05-08 05:00:00']\n['2023-05-08 00:00:00', '2023-05-08 02:00:00', '2023-05-08 03:00:00', '2023-05-08 04:00:00', '2023-05-08 05:00:00', '2023-05-08 23:00:00']\n{'domxem-C7FCB5': ['2023-05-08 00:00:00', '2023-05-08 01:00:00', '2023-05-08 22:00:00', '2023-05-08 23:00:00'], 'domxem3-3494546ED134': ['2023-05-08 00:00:00', '2023-05-08 01:00:00', '2023-05-08 02:00:00', '2023-05-08 04:00:00', '2023-05-08 22:00:00', '2023-05-08 23:00:00'], 'domxem3-349454717054': ['2023-05-08 00:00:00'], 'domxem3-485519C9AD0E': ['2023-05-08 05:00:00'], 'domxem3-68C63AFADDBF': ['2023-05-08 22:00:00', '2023-05-08 23:00:00'], 'domxem3-68C63AFADE3A': ['2023-05-08 22:00:00', '2023-05-08 23:00:00'], 'domxem3-68C63AFB1F30': ['2023-05-08 22:00:00'], 'domxem3-84CCA8ACA770': ['2023-05-08 00:00:00', '2023-05-08 01:00:00', '2023-05-08 02:00:00', '2023-05-08 04:00:00', '2023-05-08 05:00:00', '2023-05-08 21:00:00', '2023-05-08 22:00:00', '2023-05-08 23:00:00'], 'domxem3-C82B96116354': ['2023-05-08 01:00:00'], 'domxem3-C8C9A370578A': ['2023-05-08 22:00:00'], 'domxem3-ECFABCC7EE1B': ['2023-05-08 22:00:00', '2023-05-08 23:00:00'], 'domxem3-ECFABCC7EE50': ['2023-05-08 01:00:00'], 'domxem3-ECFABCC7EED2': ['2023-05-08 00:00:00', '2023-05-08 01:00:00', '2023-05-08 02:00:00', '2023-05-08 03:00:00', '2023-05-08 04:00:00', '2023-05-08 05:00:00', '2023-05-08 22:00:00', '2023-05-08 23:00:00'], 'domxem3-ECFABCC7EF31': ['2023-05-08 21:00:00', '2023-05-08 22:00:00'], 'domxem3-ECFABCC7F05A': ['2023-05-08 22:00:00', '2023-05-08 23:00:00'], 'domxem3-ECFABCC7F071': ['2023-05-08 22:00:00'], 'domxem3-ECFABCC7F0D1': ['2023-05-08 22:00:00'], 'domxem3-ECFABCC7F100': ['2023-05-08 22:00:00', '2023-05-08 23:00:00'], 'domxem3-ECFABCC7F15D': ['2023-05-08 22:00:00', '2023-05-08 23:00:00'], 'domxem3-FCF5C49559E1': ['2023-05-08 00:00:00', '2023-05-08 01:00:00', '2023-05-08 05:00:00'], 'domxem3-FCF5C49641E6': ['2023-05-08 00:00:00', '2023-05-08 02:00:00', '2023-05-08 03:00:00', '2023-05-08 04:00:00', '2023-05-08 05:00:00', '2023-05-08 23:00:00']}\n{\"domxem-C7FCB5\": [\"2023-05-08 00:00:00\", \"2023-05-08 01:00:00\", \"2023-05-08 22:00:00\", \"2023-05-08 23:00:00\"], \"domxem3-3494546ED134\": [\"2023-05-08 00:00:00\", \"2023-05-08 01:00:00\", \"2023-05-08 02:00:00\", \"2023-05-08 04:00:00\", \"2023-05-08 22:00:00\", \"2023-05-08 23:00:00\"], \"domxem3-349454717054\": [\"2023-05-08 00:00:00\"], \"domxem3-485519C9AD0E\": [\"2023-05-08 05:00:00\"], \"domxem3-68C63AFADDBF\": [\"2023-05-08 22:00:00\", \"2023-05-08 23:00:00\"], \"domxem3-68C63AFADE3A\": [\"2023-05-08 22:00:00\", \"2023-05-08 23:00:00\"], \"domxem3-68C63AFB1F30\": [\"2023-05-08 22:00:00\"], \"domxem3-84CCA8ACA770\": [\"2023-05-08 00:00:00\", \"2023-05-08 01:00:00\", \"2023-05-08 02:00:00\", \"2023-05-08 04:00:00\", \"2023-05-08 05:00:00\", \"2023-05-08 21:00:00\", \"2023-05-08 22:00:00\", \"2023-05-08 23:00:00\"], \"domxem3-C82B96116354\": [\"2023-05-08 01:00:00\"], \"domxem3-C8C9A370578A\": [\"2023-05-08 22:00:00\"], \"domxem3-ECFABCC7EE1B\": [\"2023-05-08 22:00:00\", \"2023-05-08 23:00:00\"], \"domxem3-ECFABCC7EE50\": [\"2023-05-08 01:00:00\"], \"domxem3-ECFABCC7EED2\": [\"2023-05-08 00:00:00\", \"2023-05-08 01:00:00\", \"2023-05-08 02:00:00\", \"2023-05-08 03:00:00\", \"2023-05-08 04:00:00\", \"2023-05-08 05:00:00\", \"2023-05-08 22:00:00\", \"2023-05-08 23:00:00\"], \"domxem3-ECFABCC7EF31\": [\"2023-05-08 21:00:00\", \"2023-05-08 22:00:00\"], \"domxem3-ECFABCC7F05A\": [\"2023-05-08 22:00:00\", \"2023-05-08 23:00:00\"], \"domxem3-ECFABCC7F071\": [\"2023-05-08 22:00:00\"], \"domxem3-ECFABCC7F0D1\": [\"2023-05-08 22:00:00\"], \"domxem3-ECFABCC7F100\": [\"2023-05-08 22:00:00\", \"2023-05-08 23:00:00\"], \"domxem3-ECFABCC7F15D\": [\"2023-05-08 22:00:00\", \"2023-05-08 23:00:00\"], \"domxem3-FCF5C49559E1\": [\"2023-05-08 00:00:00\", \"2023-05-08 01:00:00\", \"2023-05-08 05:00:00\"], \"domxem3-FCF5C49641E6\": [\"2023-05-08 00:00:00\", \"2023-05-08 02:00:00\", \"2023-05-08 03:00:00\", \"2023-05-08 04:00:00\", \"2023-05-08 05:00:00\", \"2023-05-08 23:00:00\"]}\n"
     ]
    }
   ],
   "source": [
    "# Create a dictionary with deviceid as key and a list of hours to avoid as value\n",
    "result = {}\n",
    "for deviceid, group in grouped_df:\n",
    "    hours_to_avoid = list(group[\"Time\"].dt.strftime('%Y-%m-%d %H:%M:%S'))\n",
    "    print(hours_to_avoid)\n",
    "    result[deviceid] = hours_to_avoid\n",
    "\n",
    "print (result)\n",
    "# Convert the dictionary to a JSON string\n",
    "json_str = json.dumps(result)\n",
    "\n",
    "print(json_str)\n",
    "\n",
    "\n"
   ]
  },
  {
   "cell_type": "code",
   "execution_count": 0,
   "metadata": {
    "application/vnd.databricks.v1+cell": {
     "cellMetadata": {
      "byteLimit": 2048000,
      "rowLimit": 10000
     },
     "inputWidgets": {},
     "nuid": "383970fa-1168-45c6-9ad6-83beac826ea9",
     "showTitle": false,
     "title": ""
    }
   },
   "outputs": [],
   "source": [
    "\n",
    "# json_str contains the JSON string to be written to file\n",
    "with open(\"forecast_recco_bigg.json\", \"w\") as outfile:\n",
    "    outfile.write(json_str)\n"
   ]
  },
  {
   "cell_type": "code",
   "execution_count": 0,
   "metadata": {
    "application/vnd.databricks.v1+cell": {
     "cellMetadata": {},
     "inputWidgets": {},
     "nuid": "323201a5-0e84-44c1-8a81-38054c9878b9",
     "showTitle": false,
     "title": ""
    }
   },
   "outputs": [],
   "source": []
  }
 ],
 "metadata": {
  "application/vnd.databricks.v1+notebook": {
   "dashboards": [],
   "language": "python",
   "notebookMetadata": {
    "pythonIndentUnit": 4
   },
   "notebookName": "BIGG_UC14_Reccomendation_Algorithm",
   "widgets": {}
  }
 },
 "nbformat": 4,
 "nbformat_minor": 0
}
