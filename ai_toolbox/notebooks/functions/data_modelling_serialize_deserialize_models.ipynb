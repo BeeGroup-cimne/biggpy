{
 "cells": [
  {
   "cell_type": "markdown",
   "metadata": {},
   "source": [
    "# Data Modelling / Model Persistence and Prediction\n",
    "### - serialize_model\n",
    "\n",
    "This function serializes and saves a model instance, with a given file format, to a specific path on the file system.\n",
    "\n",
    "### - deserialize_and_predict\n",
    "\n",
    "This function deserializes a model, inferring the file format from the file name, applies the model on the X_data and returns the predicted values in the form of a time series."
   ]
  },
  {
   "cell_type": "code",
   "execution_count": 33,
   "metadata": {},
   "outputs": [],
   "source": [
    "# Import libraries \n",
    "\n",
    "from os.path import join\n",
    "from tempfile import gettempdir\n",
    "from sklearn import svm\n",
    "from sklearn.datasets import load_iris\n",
    "from ai_toolbox.data_modelling import serialize_model, deserialize_and_predict"
   ]
  },
  {
   "cell_type": "code",
   "execution_count": 34,
   "metadata": {},
   "outputs": [
    {
     "data": {
      "text/plain": [
       "'/tmp/svc_model_iris.joblib'"
      ]
     },
     "execution_count": 34,
     "metadata": {},
     "output_type": "execute_result"
    }
   ],
   "source": [
    "# Fit SVC model on X data and serialize the fitted model\n",
    "# (the model will be written to the temporary directory (cross-platform location))\n",
    "\n",
    "clf = svm.SVC()\n",
    "X, y = load_iris(return_X_y=True)\n",
    "fitted_model = clf.fit(X, y)\n",
    "\n",
    "model_filename = serialize_model(fitted_model, join(gettempdir(), \"svc_model_iris\"))\n",
    "model_filename"
   ]
  },
  {
   "cell_type": "code",
   "execution_count": 35,
   "metadata": {},
   "outputs": [
    {
     "data": {
      "text/plain": [
       "array([2, 2, 2, 2, 2, 2, 2, 2])"
      ]
     },
     "execution_count": 35,
     "metadata": {},
     "output_type": "execute_result"
    }
   ],
   "source": [
    "# Load the saved model and predict on new X data\n",
    "# (we will use the last 8 element of X pretending they are new samples, just to show an example of usage)\n",
    "\n",
    "new_X = X[-8:]\n",
    "predicted_y = deserialize_and_predict(model_filename, new_X)\n",
    "predicted_y"
   ]
  },
  {
   "cell_type": "code",
   "execution_count": 36,
   "metadata": {},
   "outputs": [
    {
     "name": "stdout",
     "output_type": "stream",
     "text": [
      "All cleaned up.\n"
     ]
    }
   ],
   "source": [
    "# Clean up\n",
    "\n",
    "from os import remove\n",
    "try:\n",
    "    remove(model_filename)\n",
    "    print(\"All cleaned up.\")\n",
    "except FileNotFoundError:\n",
    "    print(\"Model file already deleted.\")\n",
    "    "
   ]
  }
 ],
 "metadata": {
  "kernelspec": {
   "display_name": "Python 3",
   "language": "python",
   "name": "python3"
  },
  "language_info": {
   "codemirror_mode": {
    "name": "ipython",
    "version": 3
   },
   "file_extension": ".py",
   "mimetype": "text/x-python",
   "name": "python",
   "nbconvert_exporter": "python",
   "pygments_lexer": "ipython3",
   "version": "3.6.9"
  }
 },
 "nbformat": 4,
 "nbformat_minor": 4
}
